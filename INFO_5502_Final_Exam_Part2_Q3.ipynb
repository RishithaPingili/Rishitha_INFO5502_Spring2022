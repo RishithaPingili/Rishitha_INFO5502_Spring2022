{
  "cells": [
    {
      "cell_type": "markdown",
      "metadata": {
        "id": "view-in-github",
        "colab_type": "text"
      },
      "source": [
        "<a href=\"https://colab.research.google.com/github/RishithaPingili/Rishitha_INFO5502_Spring2022/blob/main/INFO_5502_Final_Exam_Part2_Q3.ipynb\" target=\"_parent\"><img src=\"https://colab.research.google.com/assets/colab-badge.svg\" alt=\"Open In Colab\"/></a>"
      ]
    },
    {
      "cell_type": "markdown",
      "metadata": {
        "id": "xKbMD-QyffEB"
      },
      "source": [
        "### INFO 5502 Final Exam (05/12/2022, 240 points in total)"
      ]
    },
    {
      "cell_type": "markdown",
      "metadata": {
        "id": "y9yG4c2hffEO"
      },
      "source": [
        "<span style='background:yellow'>**Question 3 (100 pt, each sub-question is 10 pt).**</span> \n",
        "\n",
        "Part A: Given Inetd dataset, an intrusion detection dataset that contains 2 columns. The first column represents a process ID number (PID) and the second column represents a system call. The goal is to extract the entire system call sequence by its PID, then tokenize and parse each sequence into 25-grams. After this, we’ll split the data into training and testing sets. Next, we ensure data quality in the training dataset by removing duplicate sequences within each class and overlapped sequences between both classes. To ensure a fair evaluation, we also clean the testing set by repeating the previous step. You will implement a Decision Tree model to train and test on the training set and testing set that we just clean. \n",
        "\n",
        "\n",
        "Part B: As the data type is sequential, we want to know how similar the sequences from both classes are and visualize how the similarity scores vary in different sequence lengths. Compute a cosine similarity score of 100 random pairs from both classes and get a median cosine similarity. Repeat this step in different sequence lengths (5, 10, 15, and 20). Plot a line chart to visualize how the median cosine similarities vary through sequence lengths of 5 to 25. \n",
        "\n",
        "You can download the datasets from github: https://github.com/unt-iialab/info5502-spring2022/tree/main/finalexam/q4\n",
        "\n",
        "\n",
        "Step by step instructions and questions:\n",
        "\n",
        "(1) Attached are the Normal and Intrusion data folders. Read in the data and store them in two separate dataframes. Combine the system calls (the second column) from the same PID (the first column) into a sequence or a string. \n",
        "\n",
        "(2) Parse an entire sequence into smaller sequences of size 25. (Hint: Use word_tokenize and ngrams from nltk library to parse).\n",
        "\n",
        "(3) Add labels to the data, and partition the labeled data into training data and testing data with a ratio of 70/30.\n",
        "\n",
        "(4) As the dataset has a lot of duplicate sequences, make sure that the testing data only contain unique sequences and that these sequences do not exist in the training data. Condense training data and testing data into two sets. Take the difference between the testing set and training set to remove the overlapped sequences from the testing data. \n",
        "\n",
        "(5) The sequences from each class can be repetitive, and some of these sequences may have different labels. Therefore, we need to remove the duplicate sequences within each class and the overlapped sequences from the Intrusion class. Start out by separating the Normal class and Intrusion class in the training data. Use the same concept in Question 4 to remove duplicate sequences and overlapped sequences from the training data.\n",
        "\n",
        "(6) Repeat Question 5 to clean the testing data.\n",
        "\n",
        "(7) Bootstrap the training data to get the same number of sequences from each class. Train and evaluate a Decision Tree model using the training data and testing data that we just clean. How is the performance?\n",
        "\n",
        "(8) Randomly sample 100 pairs of sequences from both classes and calculate the median cosine similarity.\n",
        "\n",
        "(9) Refer back to Question 2, parse the data into a length of 5, 10, 15, and 20. Clean the data from each class using Question 5. For each sequence length, calculate the median cosine similarity of 100 random pairs of sequences from both classes. \n",
        "\n",
        "(10) Plot a line chart to visualize how the median cosine similarities vary through different sequence lengths from 5 to 25.\n"
      ]
    },
    {
      "cell_type": "code",
      "execution_count": 1,
      "metadata": {
        "colab": {
          "base_uri": "https://localhost:8080/",
          "height": 424
        },
        "id": "qmUREHhTffET",
        "outputId": "90c79e30-68f9-4652-ad96-753ce831e189"
      },
      "outputs": [
        {
          "output_type": "execute_result",
          "data": {
            "text/plain": [
              "      PID  SystemCalls\n",
              "0     167           90\n",
              "1     167          125\n",
              "2     167          125\n",
              "3     167          106\n",
              "4     167            5\n",
              "..    ...          ...\n",
              "536  2669            6\n",
              "537  2669            6\n",
              "538  2669            6\n",
              "539  2669            6\n",
              "540  2669           11\n",
              "\n",
              "[541 rows x 2 columns]"
            ],
            "text/html": [
              "\n",
              "  <div id=\"df-74cae1be-944f-429d-9d91-7d1649b58ce1\">\n",
              "    <div class=\"colab-df-container\">\n",
              "      <div>\n",
              "<style scoped>\n",
              "    .dataframe tbody tr th:only-of-type {\n",
              "        vertical-align: middle;\n",
              "    }\n",
              "\n",
              "    .dataframe tbody tr th {\n",
              "        vertical-align: top;\n",
              "    }\n",
              "\n",
              "    .dataframe thead th {\n",
              "        text-align: right;\n",
              "    }\n",
              "</style>\n",
              "<table border=\"1\" class=\"dataframe\">\n",
              "  <thead>\n",
              "    <tr style=\"text-align: right;\">\n",
              "      <th></th>\n",
              "      <th>PID</th>\n",
              "      <th>SystemCalls</th>\n",
              "    </tr>\n",
              "  </thead>\n",
              "  <tbody>\n",
              "    <tr>\n",
              "      <th>0</th>\n",
              "      <td>167</td>\n",
              "      <td>90</td>\n",
              "    </tr>\n",
              "    <tr>\n",
              "      <th>1</th>\n",
              "      <td>167</td>\n",
              "      <td>125</td>\n",
              "    </tr>\n",
              "    <tr>\n",
              "      <th>2</th>\n",
              "      <td>167</td>\n",
              "      <td>125</td>\n",
              "    </tr>\n",
              "    <tr>\n",
              "      <th>3</th>\n",
              "      <td>167</td>\n",
              "      <td>106</td>\n",
              "    </tr>\n",
              "    <tr>\n",
              "      <th>4</th>\n",
              "      <td>167</td>\n",
              "      <td>5</td>\n",
              "    </tr>\n",
              "    <tr>\n",
              "      <th>...</th>\n",
              "      <td>...</td>\n",
              "      <td>...</td>\n",
              "    </tr>\n",
              "    <tr>\n",
              "      <th>536</th>\n",
              "      <td>2669</td>\n",
              "      <td>6</td>\n",
              "    </tr>\n",
              "    <tr>\n",
              "      <th>537</th>\n",
              "      <td>2669</td>\n",
              "      <td>6</td>\n",
              "    </tr>\n",
              "    <tr>\n",
              "      <th>538</th>\n",
              "      <td>2669</td>\n",
              "      <td>6</td>\n",
              "    </tr>\n",
              "    <tr>\n",
              "      <th>539</th>\n",
              "      <td>2669</td>\n",
              "      <td>6</td>\n",
              "    </tr>\n",
              "    <tr>\n",
              "      <th>540</th>\n",
              "      <td>2669</td>\n",
              "      <td>11</td>\n",
              "    </tr>\n",
              "  </tbody>\n",
              "</table>\n",
              "<p>541 rows × 2 columns</p>\n",
              "</div>\n",
              "      <button class=\"colab-df-convert\" onclick=\"convertToInteractive('df-74cae1be-944f-429d-9d91-7d1649b58ce1')\"\n",
              "              title=\"Convert this dataframe to an interactive table.\"\n",
              "              style=\"display:none;\">\n",
              "        \n",
              "  <svg xmlns=\"http://www.w3.org/2000/svg\" height=\"24px\"viewBox=\"0 0 24 24\"\n",
              "       width=\"24px\">\n",
              "    <path d=\"M0 0h24v24H0V0z\" fill=\"none\"/>\n",
              "    <path d=\"M18.56 5.44l.94 2.06.94-2.06 2.06-.94-2.06-.94-.94-2.06-.94 2.06-2.06.94zm-11 1L8.5 8.5l.94-2.06 2.06-.94-2.06-.94L8.5 2.5l-.94 2.06-2.06.94zm10 10l.94 2.06.94-2.06 2.06-.94-2.06-.94-.94-2.06-.94 2.06-2.06.94z\"/><path d=\"M17.41 7.96l-1.37-1.37c-.4-.4-.92-.59-1.43-.59-.52 0-1.04.2-1.43.59L10.3 9.45l-7.72 7.72c-.78.78-.78 2.05 0 2.83L4 21.41c.39.39.9.59 1.41.59.51 0 1.02-.2 1.41-.59l7.78-7.78 2.81-2.81c.8-.78.8-2.07 0-2.86zM5.41 20L4 18.59l7.72-7.72 1.47 1.35L5.41 20z\"/>\n",
              "  </svg>\n",
              "      </button>\n",
              "      \n",
              "  <style>\n",
              "    .colab-df-container {\n",
              "      display:flex;\n",
              "      flex-wrap:wrap;\n",
              "      gap: 12px;\n",
              "    }\n",
              "\n",
              "    .colab-df-convert {\n",
              "      background-color: #E8F0FE;\n",
              "      border: none;\n",
              "      border-radius: 50%;\n",
              "      cursor: pointer;\n",
              "      display: none;\n",
              "      fill: #1967D2;\n",
              "      height: 32px;\n",
              "      padding: 0 0 0 0;\n",
              "      width: 32px;\n",
              "    }\n",
              "\n",
              "    .colab-df-convert:hover {\n",
              "      background-color: #E2EBFA;\n",
              "      box-shadow: 0px 1px 2px rgba(60, 64, 67, 0.3), 0px 1px 3px 1px rgba(60, 64, 67, 0.15);\n",
              "      fill: #174EA6;\n",
              "    }\n",
              "\n",
              "    [theme=dark] .colab-df-convert {\n",
              "      background-color: #3B4455;\n",
              "      fill: #D2E3FC;\n",
              "    }\n",
              "\n",
              "    [theme=dark] .colab-df-convert:hover {\n",
              "      background-color: #434B5C;\n",
              "      box-shadow: 0px 1px 3px 1px rgba(0, 0, 0, 0.15);\n",
              "      filter: drop-shadow(0px 1px 2px rgba(0, 0, 0, 0.3));\n",
              "      fill: #FFFFFF;\n",
              "    }\n",
              "  </style>\n",
              "\n",
              "      <script>\n",
              "        const buttonEl =\n",
              "          document.querySelector('#df-74cae1be-944f-429d-9d91-7d1649b58ce1 button.colab-df-convert');\n",
              "        buttonEl.style.display =\n",
              "          google.colab.kernel.accessAllowed ? 'block' : 'none';\n",
              "\n",
              "        async function convertToInteractive(key) {\n",
              "          const element = document.querySelector('#df-74cae1be-944f-429d-9d91-7d1649b58ce1');\n",
              "          const dataTable =\n",
              "            await google.colab.kernel.invokeFunction('convertToInteractive',\n",
              "                                                     [key], {});\n",
              "          if (!dataTable) return;\n",
              "\n",
              "          const docLinkHtml = 'Like what you see? Visit the ' +\n",
              "            '<a target=\"_blank\" href=https://colab.research.google.com/notebooks/data_table.ipynb>data table notebook</a>'\n",
              "            + ' to learn more about interactive tables.';\n",
              "          element.innerHTML = '';\n",
              "          dataTable['output_type'] = 'display_data';\n",
              "          await google.colab.output.renderOutput(dataTable, element);\n",
              "          const docLink = document.createElement('div');\n",
              "          docLink.innerHTML = docLinkHtml;\n",
              "          element.appendChild(docLink);\n",
              "        }\n",
              "      </script>\n",
              "    </div>\n",
              "  </div>\n",
              "  "
            ]
          },
          "metadata": {},
          "execution_count": 1
        }
      ],
      "source": [
        "#### You code here\n",
        "# 3-1)\n",
        "import pandas as pd\n",
        "import numpy as np\n",
        "\n",
        "# reading the data from github\n",
        "intrusion_df = pd.read_csv(\"https://raw.githubusercontent.com/unt-iialab/info5502-spring2022/main/finalexam/q4/inetd-intrusion.int\", sep = \" \", header = None)\n",
        "normal_df = pd.read_csv(\"https://raw.githubusercontent.com/unt-iialab/info5502-spring2022/main/finalexam/q4/inetd-normal.int\", sep = \" \", header = None)\n",
        "\n",
        "intrusion_df.columns = ['PID', 'SystemCalls']\n",
        "normal_df.columns = ['PID', 'SystemCalls']\n",
        "\n",
        "intrusion_df"
      ]
    },
    {
      "cell_type": "code",
      "source": [
        "normal_df"
      ],
      "metadata": {
        "colab": {
          "base_uri": "https://localhost:8080/",
          "height": 424
        },
        "id": "8DmN3JYzjZl5",
        "outputId": "3524d1ee-993d-4da3-9453-768fe5b74b7f"
      },
      "execution_count": 2,
      "outputs": [
        {
          "output_type": "execute_result",
          "data": {
            "text/plain": [
              "      PID  SystemCalls\n",
              "0     167           90\n",
              "1     167          125\n",
              "2     167          125\n",
              "3     167          106\n",
              "4     167            5\n",
              "..    ...          ...\n",
              "536  2669            6\n",
              "537  2669            6\n",
              "538  2669            6\n",
              "539  2669            6\n",
              "540  2669           11\n",
              "\n",
              "[541 rows x 2 columns]"
            ],
            "text/html": [
              "\n",
              "  <div id=\"df-c2a0ebdc-b83c-4c8b-b017-a543daa25861\">\n",
              "    <div class=\"colab-df-container\">\n",
              "      <div>\n",
              "<style scoped>\n",
              "    .dataframe tbody tr th:only-of-type {\n",
              "        vertical-align: middle;\n",
              "    }\n",
              "\n",
              "    .dataframe tbody tr th {\n",
              "        vertical-align: top;\n",
              "    }\n",
              "\n",
              "    .dataframe thead th {\n",
              "        text-align: right;\n",
              "    }\n",
              "</style>\n",
              "<table border=\"1\" class=\"dataframe\">\n",
              "  <thead>\n",
              "    <tr style=\"text-align: right;\">\n",
              "      <th></th>\n",
              "      <th>PID</th>\n",
              "      <th>SystemCalls</th>\n",
              "    </tr>\n",
              "  </thead>\n",
              "  <tbody>\n",
              "    <tr>\n",
              "      <th>0</th>\n",
              "      <td>167</td>\n",
              "      <td>90</td>\n",
              "    </tr>\n",
              "    <tr>\n",
              "      <th>1</th>\n",
              "      <td>167</td>\n",
              "      <td>125</td>\n",
              "    </tr>\n",
              "    <tr>\n",
              "      <th>2</th>\n",
              "      <td>167</td>\n",
              "      <td>125</td>\n",
              "    </tr>\n",
              "    <tr>\n",
              "      <th>3</th>\n",
              "      <td>167</td>\n",
              "      <td>106</td>\n",
              "    </tr>\n",
              "    <tr>\n",
              "      <th>4</th>\n",
              "      <td>167</td>\n",
              "      <td>5</td>\n",
              "    </tr>\n",
              "    <tr>\n",
              "      <th>...</th>\n",
              "      <td>...</td>\n",
              "      <td>...</td>\n",
              "    </tr>\n",
              "    <tr>\n",
              "      <th>536</th>\n",
              "      <td>2669</td>\n",
              "      <td>6</td>\n",
              "    </tr>\n",
              "    <tr>\n",
              "      <th>537</th>\n",
              "      <td>2669</td>\n",
              "      <td>6</td>\n",
              "    </tr>\n",
              "    <tr>\n",
              "      <th>538</th>\n",
              "      <td>2669</td>\n",
              "      <td>6</td>\n",
              "    </tr>\n",
              "    <tr>\n",
              "      <th>539</th>\n",
              "      <td>2669</td>\n",
              "      <td>6</td>\n",
              "    </tr>\n",
              "    <tr>\n",
              "      <th>540</th>\n",
              "      <td>2669</td>\n",
              "      <td>11</td>\n",
              "    </tr>\n",
              "  </tbody>\n",
              "</table>\n",
              "<p>541 rows × 2 columns</p>\n",
              "</div>\n",
              "      <button class=\"colab-df-convert\" onclick=\"convertToInteractive('df-c2a0ebdc-b83c-4c8b-b017-a543daa25861')\"\n",
              "              title=\"Convert this dataframe to an interactive table.\"\n",
              "              style=\"display:none;\">\n",
              "        \n",
              "  <svg xmlns=\"http://www.w3.org/2000/svg\" height=\"24px\"viewBox=\"0 0 24 24\"\n",
              "       width=\"24px\">\n",
              "    <path d=\"M0 0h24v24H0V0z\" fill=\"none\"/>\n",
              "    <path d=\"M18.56 5.44l.94 2.06.94-2.06 2.06-.94-2.06-.94-.94-2.06-.94 2.06-2.06.94zm-11 1L8.5 8.5l.94-2.06 2.06-.94-2.06-.94L8.5 2.5l-.94 2.06-2.06.94zm10 10l.94 2.06.94-2.06 2.06-.94-2.06-.94-.94-2.06-.94 2.06-2.06.94z\"/><path d=\"M17.41 7.96l-1.37-1.37c-.4-.4-.92-.59-1.43-.59-.52 0-1.04.2-1.43.59L10.3 9.45l-7.72 7.72c-.78.78-.78 2.05 0 2.83L4 21.41c.39.39.9.59 1.41.59.51 0 1.02-.2 1.41-.59l7.78-7.78 2.81-2.81c.8-.78.8-2.07 0-2.86zM5.41 20L4 18.59l7.72-7.72 1.47 1.35L5.41 20z\"/>\n",
              "  </svg>\n",
              "      </button>\n",
              "      \n",
              "  <style>\n",
              "    .colab-df-container {\n",
              "      display:flex;\n",
              "      flex-wrap:wrap;\n",
              "      gap: 12px;\n",
              "    }\n",
              "\n",
              "    .colab-df-convert {\n",
              "      background-color: #E8F0FE;\n",
              "      border: none;\n",
              "      border-radius: 50%;\n",
              "      cursor: pointer;\n",
              "      display: none;\n",
              "      fill: #1967D2;\n",
              "      height: 32px;\n",
              "      padding: 0 0 0 0;\n",
              "      width: 32px;\n",
              "    }\n",
              "\n",
              "    .colab-df-convert:hover {\n",
              "      background-color: #E2EBFA;\n",
              "      box-shadow: 0px 1px 2px rgba(60, 64, 67, 0.3), 0px 1px 3px 1px rgba(60, 64, 67, 0.15);\n",
              "      fill: #174EA6;\n",
              "    }\n",
              "\n",
              "    [theme=dark] .colab-df-convert {\n",
              "      background-color: #3B4455;\n",
              "      fill: #D2E3FC;\n",
              "    }\n",
              "\n",
              "    [theme=dark] .colab-df-convert:hover {\n",
              "      background-color: #434B5C;\n",
              "      box-shadow: 0px 1px 3px 1px rgba(0, 0, 0, 0.15);\n",
              "      filter: drop-shadow(0px 1px 2px rgba(0, 0, 0, 0.3));\n",
              "      fill: #FFFFFF;\n",
              "    }\n",
              "  </style>\n",
              "\n",
              "      <script>\n",
              "        const buttonEl =\n",
              "          document.querySelector('#df-c2a0ebdc-b83c-4c8b-b017-a543daa25861 button.colab-df-convert');\n",
              "        buttonEl.style.display =\n",
              "          google.colab.kernel.accessAllowed ? 'block' : 'none';\n",
              "\n",
              "        async function convertToInteractive(key) {\n",
              "          const element = document.querySelector('#df-c2a0ebdc-b83c-4c8b-b017-a543daa25861');\n",
              "          const dataTable =\n",
              "            await google.colab.kernel.invokeFunction('convertToInteractive',\n",
              "                                                     [key], {});\n",
              "          if (!dataTable) return;\n",
              "\n",
              "          const docLinkHtml = 'Like what you see? Visit the ' +\n",
              "            '<a target=\"_blank\" href=https://colab.research.google.com/notebooks/data_table.ipynb>data table notebook</a>'\n",
              "            + ' to learn more about interactive tables.';\n",
              "          element.innerHTML = '';\n",
              "          dataTable['output_type'] = 'display_data';\n",
              "          await google.colab.output.renderOutput(dataTable, element);\n",
              "          const docLink = document.createElement('div');\n",
              "          docLink.innerHTML = docLinkHtml;\n",
              "          element.appendChild(docLink);\n",
              "        }\n",
              "      </script>\n",
              "    </div>\n",
              "  </div>\n",
              "  "
            ]
          },
          "metadata": {},
          "execution_count": 2
        }
      ]
    },
    {
      "cell_type": "code",
      "source": [
        "print(intrusion_df.shape)\n",
        "print(normal_df.shape)"
      ],
      "metadata": {
        "colab": {
          "base_uri": "https://localhost:8080/"
        },
        "id": "MjKyQzIFjopw",
        "outputId": "15ee4e24-b52d-45ce-e941-00fda0233d8a"
      },
      "execution_count": 4,
      "outputs": [
        {
          "output_type": "stream",
          "name": "stdout",
          "text": [
            "(8371, 2)\n",
            "(541, 2)\n"
          ]
        }
      ]
    },
    {
      "cell_type": "code",
      "source": [
        "int_dict={}\n",
        "nor_dict={}\n",
        "#combining system calls from the same PID into a sequence or a string\n",
        "for pid in list(set(intrusion_df['PID'].values)):\n",
        "    int_dict[pid] = \" \".join(str(value) for value in list(intrusion_df[intrusion_df['PID'] == pid]['SystemCalls'].values))\n",
        "\n",
        "for pid in list(set(normal_df['PID'].values)):\n",
        "    nor_dict[pid] = \" \".join(str(value) for value in list(normal_df[normal_df['PID'] == pid]['SystemCalls'].values))\n",
        "\n",
        "int_dict[168]"
      ],
      "metadata": {
        "colab": {
          "base_uri": "https://localhost:8080/",
          "height": 123
        },
        "id": "T0I0vN-Qju9A",
        "outputId": "c4ed600d-2af0-4c91-b0fd-f0e79180a8f3"
      },
      "execution_count": 45,
      "outputs": [
        {
          "output_type": "execute_result",
          "data": {
            "text/plain": [
              "'66 12 5 63 63 63 6 5 20 108 90 4 6 91 76 5 108 90 3 126 126 5 45 108 90 3 3 6 91 5 108 90 3 19 6 91 102 102 102 102 126 126 5 108 90 3 19 6 91 102 102 102 102 126 126 5 108 90 3 19 6 91 102 102 102 102 126 126 5 108 90 3 19 6 91 102 102 102 102 126 126 5 108 90 3 19 6 91 102 102 102 102 45 126 126 5 108 90 3 19 6 91 102 102 102 126 126 5 108 90 3 19 6 91 102 102 102 126 126 5 108 90 3 19 6 91 102 102 102 102 126 126 5 108 90 3 19 6 91 102 102 102 102 126 126 5 108 90 3 19 6 91 102 102 102 102 126 126 5 108 90 3 19 6 91 102 102 102 102 126 126 5 108 90 3 19 6 91 102 102 102 102 126 126 5 108 90 3 19 6 91 102 102 102 126 126 5 108 90 3 19 6 91 102 102 102 102 3 6 91 126 126 67 67 67 67 67 82 55 102 55 126 78 2 126 6 82 114 114 119 126 67 13 27 72 119 13 67 27 126 82 55 102 55 126 78 2 126 6 82 114 114 119 126 67 13 27 72 119 13 67 27 126 82 55 102 55 126 2 126 6 82 114 114 119 126 67 13 27 72 119 13 67 27 126 82 55 102 55 126 2 126 6 82 55 102 55 126 2 126 6 82 55 102 55 126 2 126 6 82 55 102 55 126 2 126 6 82 55 102 55 126 2 55 102 55 126 2 126 6 82 55 102 55 126 2 126 6 82 55 102 55 126 2 126 6 82 55 102 55 126 2 126 6 82 55 102 55 126 2 126 6 82 55 102 55 126 2 126 6 82 114 114 119 55 102 55 126 2 126 6 82 55 102 55 126 2 126 6 82 55 102 55 126 2 126 6 82 55 102 55 126 2 126 6 82 55 102 55 126 2 126 6 82 55 102 55 126 2 126 6 82 55 102 55 126 2 126 6 82 55 102 55 126 2 126 6 82 55 102 55 126 2 126 6 82 55 102 55 126 2 126 6 82 55 102 55 126 2 126 6 82 55 102 55 126 2 126 6 82 55 102 55 126 2 126 6 82 55 102 55 126 2 126 6 82 55 102 55 126 2 126 6 82 55 102 55 126 2 126 6 82 55 102 55 126 2 126 6 82 55 102 55 126 2 126 6 82 55 102 55 126 78 102 102 13 5 3 6 13 20 4 6 126 114 114 114 114 114 114 114 114 114 114 114 114 114 114 114 114 114 114 114 114 114 114 114 114 114 114 114 114 114 114 114 114 114 114 114 114 114 114 114 114 114 114 114 114 114 114 114 114 114 114 114 114 114 114 114 114 114 114 114 114 114 114 114 114 114 114 114 114 114 114 114 114 114 114 114 114 114 119 27 82 102 102 102 102 119 126 67 13 27 72 119 13 67 27 126 82'"
            ],
            "application/vnd.google.colaboratory.intrinsic+json": {
              "type": "string"
            }
          },
          "metadata": {},
          "execution_count": 45
        }
      ]
    },
    {
      "cell_type": "code",
      "source": [
        "nor_dict[168]"
      ],
      "metadata": {
        "colab": {
          "base_uri": "https://localhost:8080/",
          "height": 105
        },
        "id": "A3yHu7xpkrwl",
        "outputId": "08435bd2-4efb-4be4-c85e-0e7ede1afc13"
      },
      "execution_count": 46,
      "outputs": [
        {
          "output_type": "execute_result",
          "data": {
            "text/plain": [
              "'66 12 5 63 63 63 6 5 20 108 90 4 6 91 76 5 108 90 3 126 126 5 45 108 90 3 3 6 91 5 108 90 3 19 6 91 102 102 102 102 126 126 5 108 90 3 19 6 91 102 102 102 102 126 126 5 108 90 3 19 6 91 102 102 102 102 126 126 5 108 90 3 19 6 91 102 102 102 102 126 126 5 108 90 3 19 6 91 102 102 102 102 45 126 126 5 108 90 3 19 6 91 102 102 102 126 126 5 108 90 3 19 6 91 102 102 102 126 126 5 108 90 3 19 6 91 102 102 102 102 126 126 5 108 90 3 19 6 91 102 102 102 102 126 126 5 108 90 3 19 6 91 102 102 102 102 126 126 5 108 90 3 19 6 91 102 102 102 102 126 126 5 108 90 3 19 6 91 102 102 102 102 126 126 5 108 90 3 19 6 91 102 102 102 126 126 5 108 90 3 19 6 91 102 102 102 102 3 6 91 126 126 67 67 67 67 67 82 55 102 55 126 78 2 126 6 82 114 114 119 126 67 13 27 72 119 13 67 27 126 82'"
            ],
            "application/vnd.google.colaboratory.intrinsic+json": {
              "type": "string"
            }
          },
          "metadata": {},
          "execution_count": 46
        }
      ]
    },
    {
      "cell_type": "code",
      "source": [
        "#3-2)\n",
        "#parsing an entire sequence into smaller sequences of size 25\n",
        "import re\n",
        "from nltk.util import ngrams\n",
        "int_list=[]\n",
        "nor_list=[]\n",
        "\n",
        "for key in int_dict.keys():\n",
        "    i = int_dict[key]\n",
        "    tokens = [token for token in i.split(\" \") if token != \"\"]\n",
        "    \n",
        "    for j in list(ngrams(tokens, 25)):\n",
        "        int_list.append(j)\n",
        "        \n",
        "for key in nor_dict.keys():\n",
        "    s = nor_dict[key]\n",
        "    tokens = [token for token in s.split(\" \") if token != \"\"]\n",
        "    \n",
        "    for j in list(ngrams(tokens, 25)):\n",
        "        nor_list.append(j) \n",
        "\n",
        "print(len(int_list))\n",
        "print(len(nor_list))"
      ],
      "metadata": {
        "colab": {
          "base_uri": "https://localhost:8080/"
        },
        "id": "QoDkVW3Bkw1W",
        "outputId": "376c0509-735b-4073-fc5d-3d778acbfdcc"
      },
      "execution_count": 47,
      "outputs": [
        {
          "output_type": "stream",
          "name": "stdout",
          "text": [
            "7627\n",
            "469\n"
          ]
        }
      ]
    },
    {
      "cell_type": "code",
      "source": [
        "#3-3)\n",
        "#adding labels to the data\n",
        "int_df = pd.DataFrame(int_list)\n",
        "nor_df = pd.DataFrame(nor_list)\n",
        "\n",
        "int_df['class'] = 1\n",
        "nor_df['class'] = 0\n",
        "\n",
        "print(int_df.shape)\n",
        "print(nor_df.shape)"
      ],
      "metadata": {
        "colab": {
          "base_uri": "https://localhost:8080/"
        },
        "id": "lEDGrHmClx3e",
        "outputId": "97f1a172-0789-4c77-b637-1bb8bddc7b5f"
      },
      "execution_count": 48,
      "outputs": [
        {
          "output_type": "stream",
          "name": "stdout",
          "text": [
            "(7627, 26)\n",
            "(469, 26)\n"
          ]
        }
      ]
    },
    {
      "cell_type": "code",
      "source": [
        "# combining data frames \n",
        "\n",
        "comb_data = pd.DataFrame()\n",
        "\n",
        "comb_data = comb_data.append(int_df)\n",
        "comb_data = comb_data.append(nor_df)\n",
        "\n",
        "print(comb_data.shape)"
      ],
      "metadata": {
        "colab": {
          "base_uri": "https://localhost:8080/"
        },
        "id": "hxoVKUhymXPZ",
        "outputId": "21db5b23-32c9-43f9-cde0-328dc7ab78d9"
      },
      "execution_count": 49,
      "outputs": [
        {
          "output_type": "stream",
          "name": "stdout",
          "text": [
            "(8096, 26)\n"
          ]
        }
      ]
    },
    {
      "cell_type": "code",
      "source": [
        "#cleaning data\n",
        "comb_data = comb_data.drop_duplicates(subset = comb_data.columns[:-1], keep = 'last')\n",
        "comb_data.shape"
      ],
      "metadata": {
        "colab": {
          "base_uri": "https://localhost:8080/"
        },
        "id": "cQxn8i3mn_Jb",
        "outputId": "6fe55567-bd52-4fad-cd44-f618cb98d587"
      },
      "execution_count": 50,
      "outputs": [
        {
          "output_type": "execute_result",
          "data": {
            "text/plain": [
              "(333, 26)"
            ]
          },
          "metadata": {},
          "execution_count": 50
        }
      ]
    },
    {
      "cell_type": "code",
      "source": [
        "comb_data.columns[:-1]"
      ],
      "metadata": {
        "colab": {
          "base_uri": "https://localhost:8080/"
        },
        "id": "qXULzJwTqTRW",
        "outputId": "67dc64c0-258d-4be1-e20b-91b49a9ee415"
      },
      "execution_count": 51,
      "outputs": [
        {
          "output_type": "execute_result",
          "data": {
            "text/plain": [
              "Index([ 0,  1,  2,  3,  4,  5,  6,  7,  8,  9, 10, 11, 12, 13, 14, 15, 16, 17,\n",
              "       18, 19, 20, 21, 22, 23, 24],\n",
              "      dtype='object')"
            ]
          },
          "metadata": {},
          "execution_count": 51
        }
      ]
    },
    {
      "cell_type": "code",
      "source": [
        "from sklearn.tree import DecisionTreeClassifier\n",
        "from sklearn.metrics import classification_report\n",
        "from sklearn.model_selection import train_test_split\n",
        "from sklearn import preprocessing\n",
        "\n",
        "\n",
        "X = comb_data.drop(\"class\", axis = 1)\n",
        "y = comb_data['class']\n",
        "\n",
        "X_train, X_valid, y_train, y_valid = train_test_split(X, y, test_size = 0.2, random_state = 0)\n",
        "\n",
        "dectreeclassifier = DecisionTreeClassifier(max_depth = 10)\n",
        "dectreeclassifier.fit(X_train, y_train)\n",
        "y_pred = dectreeclassifier.predict(X_valid)\n",
        "\n",
        "print(classification_report(y_valid, y_pred))"
      ],
      "metadata": {
        "colab": {
          "base_uri": "https://localhost:8080/"
        },
        "id": "EqjGpBTOoWeT",
        "outputId": "25c8c436-e97f-4bbb-f314-ea2ce71ea9a6"
      },
      "execution_count": 52,
      "outputs": [
        {
          "output_type": "stream",
          "name": "stdout",
          "text": [
            "              precision    recall  f1-score   support\n",
            "\n",
            "           0       0.75      0.82      0.78        22\n",
            "           1       0.91      0.87      0.89        45\n",
            "\n",
            "    accuracy                           0.85        67\n",
            "   macro avg       0.83      0.84      0.83        67\n",
            "weighted avg       0.86      0.85      0.85        67\n",
            "\n"
          ]
        }
      ]
    },
    {
      "cell_type": "code",
      "source": [
        "#\n",
        "import re\n",
        "import pandas as pd\n",
        "from nltk.util import ngrams\n",
        "\n",
        "cosine_similar = {}\n",
        "\n",
        "for i in range(5, 26, 5):\n",
        "\n",
        "    int_data = pd.read_csv(\"https://raw.githubusercontent.com/unt-iialab/info5502-spring2022/main/finalexam/q4/inetd-intrusion.int\", sep = \" \", header = None)\n",
        "    nor_data = pd.read_csv(\"https://raw.githubusercontent.com/unt-iialab/info5502-spring2022/main/finalexam/q4/inetd-normal.int\", sep = \" \", header = None)\n",
        "\n",
        "    int_data.columns = ['PID', 'SystemCalls']\n",
        "    nor_data.columns = ['PID', 'SystemCalls']\n",
        "\n",
        "    int_dict = {}\n",
        "    nor_dict = {}\n",
        "\n",
        "    for pid in list(set(int_data['PID'].values)):\n",
        "        int_dict[pid] = \" \".join(str(value) for value in list(int_data[int_data['PID'] == pid]['SystemCalls'].values))\n",
        "\n",
        "    for pid in list(set(nor_data['PID'].values)):\n",
        "        nor_dict[pid] = \" \".join(str(value) for value in list(nor_data[nor_data['PID'] == pid]['SystemCalls'].values))\n",
        "\n",
        "    int_list=[]\n",
        "    nor_list=[]\n",
        "\n",
        "    for key in int_dict.keys():\n",
        "        s = int_dict[key]\n",
        "        tokens = [token for token in s.split(\" \") if token != \"\"]\n",
        "\n",
        "        for y in list(ngrams(tokens, i)):\n",
        "            int_list.append(y)\n",
        "\n",
        "    for key in nor_dict.keys():\n",
        "        s = nor_dict[key]\n",
        "        tokens = [token for token in s.split(\" \") if token != \"\"]\n",
        "\n",
        "        for y in list(ngrams(tokens, i)):\n",
        "            nor_list.append(y)\n",
        "    int_df = pd.DataFrame(int_list)\n",
        "    nor_df = pd.DataFrame(nor_list)\n",
        "\n",
        "    int_df['class'] = 1\n",
        "    nor_df['class'] = 0\n",
        "\n",
        "    comb_data = pd.DataFrame()\n",
        "\n",
        "    comb_data = comb_data.append(int_df)\n",
        "    comb_data = comb_data.append(nor_df)\n",
        "\n",
        "    print(comb_data.shape)\n",
        "    print()\n",
        "\n",
        "\n",
        "    comb_data = comb_data.drop_duplicates(subset = comb_data.columns[:-1], keep = 'last')\n",
        "    print(comb_data.shape)\n",
        "    print()\n",
        "\n",
        "    from sklearn.metrics.pairwise import cosine_similarity\n",
        "    import statistics\n",
        "\n",
        "    sim_list = []\n",
        "    for i in range(0, 100):\n",
        "        l1 = list(comb_data[comb_data['class'] == 0].sample(n = 1).iloc[0, :].values)\n",
        "        l2 = list(comb_data[comb_data['class'] == 1].sample(n = 1).iloc[0, :].values)\n",
        "        try:\n",
        "            sim_list.append(cosine_similarity([l1], [l2]))\n",
        "        except Exception as e:\n",
        "            print(e)\n",
        "            print(l1, l2)\n",
        "\n",
        "    print(statistics.median(sim_list)[0][0])\n",
        "    print()\n",
        "    cosine_similar[i] = statistics.median(sim_list)[0][0]\n",
        "    \n",
        "\n"
      ],
      "metadata": {
        "colab": {
          "base_uri": "https://localhost:8080/"
        },
        "id": "rFB79XparEwF",
        "outputId": "95a6f0bf-d062-42e3-8208-25cc9f401008"
      },
      "execution_count": 60,
      "outputs": [
        {
          "output_type": "stream",
          "name": "stdout",
          "text": [
            "(8776, 6)\n",
            "\n",
            "(168, 6)\n",
            "\n",
            "0.8084587957796006\n",
            "\n",
            "(8606, 11)\n",
            "\n",
            "(213, 11)\n",
            "\n",
            "0.7523609596017753\n",
            "\n",
            "(8436, 16)\n",
            "\n",
            "(254, 16)\n",
            "\n",
            "0.7055721624559479\n",
            "\n",
            "(8266, 21)\n",
            "\n",
            "(293, 21)\n",
            "\n",
            "0.7426128815793362\n",
            "\n",
            "(8096, 26)\n",
            "\n",
            "(333, 26)\n",
            "\n",
            "0.7323298873660102\n",
            "\n"
          ]
        }
      ]
    },
    {
      "cell_type": "code",
      "source": [
        "import matplotlib.pyplot as plot\n",
        "import seaborn as sns\n",
        "\n",
        "# creating a dataframe of cosine similarity scores...\n",
        "cosine_df = pd.DataFrame({\"Ngram\":list(cosine_similar.keys()), \"Similarity_scores\": list(cosine_similar.values())})\n",
        "\n",
        "# setting the figure parameters\n",
        "plot.rcParams['figure.figsize'] = [10, 7]\n",
        "\n",
        "# we iterate through each ngram range class and plot the cosine similarity value\n",
        "sns.lineplot(x = \"Ngram\", y = \"Similarity_scores\", data = cosine_df)\n",
        "    \n",
        "plot.title(\"Line chart of cosine similarity scores\")\n",
        "plot.xlabel(\"Ngram\")\n",
        "plot.ylabel(\"Cosine similarity scores\")\n",
        "plot.xticks(rotation = 90)\n",
        "plot.show()"
      ],
      "metadata": {
        "colab": {
          "base_uri": "https://localhost:8080/",
          "height": 467
        },
        "id": "AeEEwbE9vY29",
        "outputId": "0407e695-a39c-4782-ef44-17ce4d6d2743"
      },
      "execution_count": 65,
      "outputs": [
        {
          "output_type": "display_data",
          "data": {
            "text/plain": [
              "<Figure size 720x504 with 1 Axes>"
            ],
            "image/png": "[encoded data removed]"
          },
          "metadata": {
            "needs_background": "light"
          }
        }
      ]
    }
  ],
  "metadata": {
    "kernelspec": {
      "display_name": "Python 3",
      "language": "python",
      "name": "python3"
    },
    "language_info": {
      "codemirror_mode": {
        "name": "ipython",
        "version": 3
      },
      "file_extension": ".py",
      "mimetype": "text/x-python",
      "name": "python",
      "nbconvert_exporter": "python",
      "pygments_lexer": "ipython3",
      "version": "3.8.5"
    },
    "colab": {
      "name": "INFO 5502-Final Exam-Spring2022.ipynb",
      "provenance": [],
      "include_colab_link": true
    }
  },
  "nbformat": 4,
  "nbformat_minor": 0
}
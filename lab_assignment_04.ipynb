{
  "cells": [
    {
      "cell_type": "markdown",
      "metadata": {
        "id": "view-in-github",
        "colab_type": "text"
      },
      "source": [
        "<a href=\"https://colab.research.google.com/github/RishithaPingili/Rishitha_INFO5502_Spring2022/blob/main/lab_assignment_04.ipynb\" target=\"_parent\"><img src=\"https://colab.research.google.com/assets/colab-badge.svg\" alt=\"Open In Colab\"/></a>"
      ]
    },
    {
      "cell_type": "markdown",
      "metadata": {
        "id": "7OBg50OYp7Qr"
      },
      "source": [
        "## The fourth Lab-assignment (02/17/2022, 50 points in total)"
      ]
    },
    {
      "cell_type": "markdown",
      "metadata": {
        "id": "GkF-b2lsp7Q5"
      },
      "source": [
        "The purpose of this exercise is to understand Exploratory Data Analysis, we will practice the EDA by working on multiple datasets which have different characteristics."
      ]
    },
    {
      "cell_type": "markdown",
      "metadata": {
        "id": "UIiXEN7mp7Q_"
      },
      "source": [
        "Question 1 (15 points). Understand a text corpus for domain-specific text classification. Download the dataset from the following link: https://osf.io/8mjcy/ . Conduct EDA of the dataset from the following aspects:\n",
        "\n",
        "(1) How many categories in total?\n",
        "\n",
        "(2) How many documents under each category?\n",
        "\n",
        "(3) What is the avergae number of sentence (on average)?\n",
        "\n",
        "(4) What is the average number of words (on average)?\n",
        "\n",
        "(5) Visualize the top 50 terms and rank the terms by frquency (remove stop words first: https://gist.github.com/sebleier/554280)."
      ]
    },
    {
      "cell_type": "code",
      "execution_count": null,
      "metadata": {
        "id": "sxngUK-Qp7RC",
        "colab": {
          "base_uri": "https://localhost:8080/"
        },
        "outputId": "c87c84fe-137d-47a5-beca-13e7eff19808"
      },
      "outputs": [
        {
          "output_type": "stream",
          "name": "stdout",
          "text": [
            "Mounted at /content/drive\n"
          ]
        }
      ],
      "source": [
        "# Your answer here (code + explanation):\n",
        "\n",
        "from google.colab import drive\n",
        "drive.mount('/content/drive')"
      ]
    },
    {
      "cell_type": "code",
      "source": [
        "import os\n",
        "from nltk.tokenize import sent_tokenize\n",
        "from nltk.corpus import PlaintextCorpusReader\n",
        "from nltk.tokenize import word_tokenize\n",
        "import nltk\n",
        "nltk.download('stopwords')\n",
        "nltk.download('punkt')\n",
        "nltk.download('averaged_perceptron_tagger') \n",
        "nltk.download('wordnet')"
      ],
      "metadata": {
        "id": "ONQ732m1C9Cj",
        "colab": {
          "base_uri": "https://localhost:8080/"
        },
        "outputId": "37ab45f4-5a5e-4fb2-d0cd-ddb55b413fc4"
      },
      "execution_count": null,
      "outputs": [
        {
          "output_type": "stream",
          "name": "stdout",
          "text": [
            "[nltk_data] Downloading package stopwords to /root/nltk_data...\n",
            "[nltk_data]   Package stopwords is already up-to-date!\n",
            "[nltk_data] Downloading package punkt to /root/nltk_data...\n",
            "[nltk_data]   Package punkt is already up-to-date!\n",
            "[nltk_data] Downloading package averaged_perceptron_tagger to\n",
            "[nltk_data]     /root/nltk_data...\n",
            "[nltk_data]   Package averaged_perceptron_tagger is already up-to-\n",
            "[nltk_data]       date!\n",
            "[nltk_data] Downloading package wordnet to /root/nltk_data...\n",
            "[nltk_data]   Package wordnet is already up-to-date!\n"
          ]
        },
        {
          "output_type": "execute_result",
          "data": {
            "text/plain": [
              "True"
            ]
          },
          "metadata": {},
          "execution_count": 15
        }
      ]
    },
    {
      "cell_type": "code",
      "source": [
        "#1)\n",
        "filepath = os.listdir(\"/content/drive/MyDrive/preprocessed_cases[cases_29404]\")\n",
        "print('{} categories are present'.format(len(filepath)))"
      ],
      "metadata": {
        "id": "54t_wkQqDH30",
        "colab": {
          "base_uri": "https://localhost:8080/"
        },
        "outputId": "4728a694-5c1f-4a47-8624-651a0433322a"
      },
      "execution_count": null,
      "outputs": [
        {
          "output_type": "stream",
          "name": "stdout",
          "text": [
            "76 categories are present\n"
          ]
        }
      ]
    },
    {
      "cell_type": "code",
      "source": [
        "#2)\n",
        "for x in filepath:\n",
        "  documents = os.listdir(\"/content/drive/MyDrive/preprocessed_cases[cases_29404]/{}\".format((x)))\n",
        "  print('In file {} we have {} documents'.format(x,len(documents)))\n"
      ],
      "metadata": {
        "id": "NbwWqAggGYWr",
        "colab": {
          "base_uri": "https://localhost:8080/"
        },
        "outputId": "ecb12619-48a2-4331-f50b-6de669efdf6b"
      },
      "execution_count": null,
      "outputs": [
        {
          "output_type": "stream",
          "name": "stdout",
          "text": [
            "In file 1 we have 0 documents\n",
            "In file 10 we have 0 documents\n",
            "In file 11 we have 0 documents\n",
            "In file 12 we have 0 documents\n",
            "In file 13 we have 0 documents\n",
            "In file 14 we have 0 documents\n",
            "In file 15 we have 0 documents\n",
            "In file 19 we have 0 documents\n",
            "In file 2 we have 0 documents\n",
            "In file 20 we have 0 documents\n",
            "In file 21 we have 0 documents\n",
            "In file 22 we have 0 documents\n",
            "In file 23 we have 0 documents\n",
            "In file 24 we have 0 documents\n",
            "In file 25 we have 0 documents\n",
            "In file 26 we have 0 documents\n",
            "In file 16 we have 0 documents\n",
            "In file 17 we have 0 documents\n",
            "In file 18 we have 0 documents\n",
            "In file 27 we have 0 documents\n",
            "In file 29 we have 0 documents\n",
            "In file 3 we have 0 documents\n",
            "In file 30 we have 0 documents\n",
            "In file 31 we have 0 documents\n",
            "In file 32 we have 0 documents\n",
            "In file 33 we have 0 documents\n",
            "In file 34 we have 0 documents\n",
            "In file 35 we have 0 documents\n",
            "In file 36 we have 0 documents\n",
            "In file 28 we have 0 documents\n",
            "In file 37 we have 0 documents\n",
            "In file 40 we have 0 documents\n",
            "In file 41 we have 0 documents\n",
            "In file 42 we have 1090 documents\n",
            "In file 43 we have 234 documents\n",
            "In file 44 we have 825 documents\n",
            "In file 45 we have 1085 documents\n",
            "In file 47 we have 151 documents\n",
            "In file 49 we have 17 documents\n",
            "In file 5 we have 751 documents\n",
            "In file 38 we have 503 documents\n",
            "In file 39 we have 261 documents\n",
            "In file 4 we have 231 documents\n",
            "In file 50 we have 68 documents\n",
            "In file 52 we have 318 documents\n",
            "In file 53 we have 142 documents\n",
            "In file 54 we have 95 documents\n",
            "In file 55 we have 48 documents\n",
            "In file 56 we have 395 documents\n",
            "In file 57 we have 108 documents\n",
            "In file 58 we have 150 documents\n",
            "In file 59 we have 51 documents\n",
            "In file 6 we have 380 documents\n",
            "In file 51 we have 225 documents\n",
            "In file 60 we have 42 documents\n",
            "In file 62 we have 218 documents\n",
            "In file 63 we have 194 documents\n",
            "In file 64 we have 130 documents\n",
            "In file 65 we have 276 documents\n",
            "In file 66 we have 207 documents\n",
            "In file 67 we have 356 documents\n",
            "In file 68 we have 263 documents\n",
            "In file 69 we have 700 documents\n",
            "In file 7 we have 621 documents\n",
            "In file 61 we have 181 documents\n",
            "In file 70 we have 192 documents\n",
            "In file 71 we have 457 documents\n",
            "In file 72 we have 74 documents\n",
            "In file 73 we have 705 documents\n",
            "In file 74 we have 60 documents\n",
            "In file 75 we have 473 documents\n",
            "In file 76 we have 177 documents\n",
            "In file 77 we have 146 documents\n",
            "In file 78 we have 242 documents\n",
            "In file 8 we have 521 documents\n",
            "In file 9 we have 744 documents\n"
          ]
        }
      ]
    },
    {
      "cell_type": "code",
      "source": [
        "#3)\n",
        "import pandas as pd\n",
        "total = 0\n",
        "for i in filepath:\n",
        "    doc = os.listdir(\"/content/drive/MyDrive/preprocessed_cases[cases_29404]/{}\".format((i)))\n",
        "    try:\n",
        "        for file1 in doc:\n",
        "            path = os.path.join(\"/content/gdrive/My Drive/preprocessed_cases[cases_29404]\", i, filepath)\n",
        "            dt = pd.read_csv(path, sep=\"\\t\")\n",
        "            total += dt.shape[0]\n",
        "    except:\n",
        "        print(i, file1)\n",
        "print(\"The average no of sentences in all categories is:\", round(total/78, 20))\n",
        "print(\"The average no of sentences in all files is:\", round(total/29404, 20))"
      ],
      "metadata": {
        "colab": {
          "base_uri": "https://localhost:8080/"
        },
        "id": "noGbT5pVGxZP",
        "outputId": "a796de81-cf8b-4cb4-82e4-2a5b76d477bd"
      },
      "execution_count": null,
      "outputs": [
        {
          "output_type": "stream",
          "name": "stdout",
          "text": [
            "42 case1094.txt\n",
            "43 case113.txt\n",
            "44 case1005.txt\n",
            "45 case1104.txt\n",
            "47 case290.txt\n",
            "49 case35.txt\n",
            "5 case1082.txt\n",
            "38 case1044.txt\n",
            "39 case130.txt\n",
            "4 case232.txt\n",
            "50 case24.txt\n",
            "52 case1043.txt\n",
            "53 case277.txt\n",
            "54 case187.txt\n",
            "55 case121.txt\n",
            "56 case1.txt\n",
            "57 case144.txt\n",
            "58 case240.txt\n",
            "59 case66.txt\n",
            "6 case1103.txt\n",
            "51 case145.txt\n",
            "60 case97.txt\n",
            "62 case143.txt\n",
            "63 case185.txt\n",
            "64 case126.txt\n",
            "65 case146.txt\n",
            "66 case309.txt\n",
            "67 case11.txt\n",
            "68 case25.txt\n",
            "69 case1119.txt\n",
            "7 case1080.txt\n",
            "61 case196.txt\n",
            "70 case164.txt\n",
            "71 case1042.txt\n",
            "72 case114.txt\n",
            "73 case1038.txt\n",
            "74 case10.txt\n",
            "75 case1053.txt\n",
            "76 case173.txt\n",
            "77 case121.txt\n",
            "78 case103.txt\n",
            "8 case1030.txt\n",
            "9 case1013.txt\n",
            "The average no of sentences in all categories is: 0.0\n",
            "The average no of sentences in all files is: 0.0\n"
          ]
        }
      ]
    },
    {
      "cell_type": "code",
      "source": [
        "#4)\n",
        "import pandas as pd\n",
        "import nltk\n",
        "nltk.download('stopwords')\n",
        "from nltk.corpus import stopwords\n",
        "stop = stopwords.words('english')\n",
        "tot = 0\n",
        "for fldr in filepath:\n",
        "    docs = os.listdir(\"/content/drive/MyDrive/preprocessed_cases[cases_29404]/{}\".format((fldr)))\n",
        "    try:\n",
        "        for f in docs:\n",
        "            file_path = os.path.join(\"/content/drive/MyDrive/preprocessed_cases[cases_29404]\", fldr, f)\n",
        "            dt1 = pd.read_csv(file_path, sep=\"\\t\")\n",
        "            for col in dt1.columns:\n",
        "                dt1[col] = dt1[col].apply(lambda x: [item for item in x.split() if ((item not in stop) and (len(item)!= 1))])\n",
        "                \n",
        "                for j in dt1[col]:\n",
        "                    tot += len(j)\n",
        "    except Exception as exp:\n",
        "        print(exp)\n",
        "print(\"The average no of words in all categories is:\", round(tot/78, 2))\n",
        "print(\"The average no of words in all files is:\", round(tot/29404, 2))"
      ],
      "metadata": {
        "colab": {
          "base_uri": "https://localhost:8080/"
        },
        "id": "LR4X64w8G1Iu",
        "outputId": "12d0be76-23a6-48be-df3b-1ac2b5da00e5"
      },
      "execution_count": null,
      "outputs": [
        {
          "output_type": "stream",
          "name": "stdout",
          "text": [
            "[nltk_data] Downloading package stopwords to /root/nltk_data...\n",
            "[nltk_data]   Package stopwords is already up-to-date!\n",
            "No columns to parse from file\n",
            "The average no of words in all categories is: 356695.23\n",
            "The average no of words in all files is: 946.21\n"
          ]
        }
      ]
    },
    {
      "cell_type": "code",
      "source": [
        "!pip install stop_words"
      ],
      "metadata": {
        "colab": {
          "base_uri": "https://localhost:8080/"
        },
        "id": "8yqGdgsYIJfT",
        "outputId": "213f96a4-b0e8-456f-c72b-52042c93fba1"
      },
      "execution_count": null,
      "outputs": [
        {
          "output_type": "stream",
          "name": "stdout",
          "text": [
            "Collecting stop_words\n",
            "  Downloading stop-words-2018.7.23.tar.gz (31 kB)\n",
            "Building wheels for collected packages: stop-words\n",
            "  Building wheel for stop-words (setup.py) ... \u001b[?25l\u001b[?25hdone\n",
            "  Created wheel for stop-words: filename=stop_words-2018.7.23-py3-none-any.whl size=32911 sha256=3896dc13e1e10c81a2fd0d693b78c0dd79b2905a0019200fc118393c3d43731c\n",
            "  Stored in directory: /root/.cache/pip/wheels/fb/86/b2/277b10b1ce9f73ce15059bf6975d4547cc4ec3feeb651978e9\n",
            "Successfully built stop-words\n",
            "Installing collected packages: stop-words\n",
            "Successfully installed stop-words-2018.7.23\n"
          ]
        }
      ]
    },
    {
      "cell_type": "code",
      "source": [
        "import re\n",
        "import pandas as pd\n",
        "from stop_words import get_stop_words\n",
        "from nltk.corpus import stopwords\n",
        "import nltk\n",
        "import nltk\n",
        "nltk.download('stopwords')\n",
        "nltk.download('wordnet')\n",
        "nltk.download('punkt')\n",
        "nltk.download('averaged_perceptron_tagger') \n",
        "\n",
        "\n",
        "SW = set(stopwords.words('english'))\n",
        "s_w = list(get_stop_words('en'))\n",
        "stopwords = list(set(list(SW)) | set(list(s_w)))\n",
        "stopwords = [re.sub('[^a-zA-Z0-9]+', '', word) for word in stopwords]\n",
        "print(len(stopwords))\n",
        "import os\n",
        "\n",
        "list_of_words = []\n",
        "path = os.listdir(\"/content/drive/MyDrive/preprocessed_cases[cases_29404]\")\n",
        "\n",
        "for i in path:\n",
        "    doc = os.listdir(\"/content/drive/MyDrive/preprocessed_cases[cases_29404]/{}\".format((i)))\n",
        "    try:\n",
        "        for file2 in docs:\n",
        "            path = os.path.join(\"/content/drive/MyDrive/preprocessed_cases[cases_29404]\", i, file2)\n",
        "            \n",
        "            dt2 = pd.read_csv(path, sep=\"\\t\")\n",
        "            for j in dt2.columns:\n",
        "                dt2[j] = dt2[j].str.lower()\n",
        "                dt2[j] = dt2[j].apply(lambda x: re.sub('[^A-Za-z0-9 ]+', '', x))\n",
        "                dt2[j] = dt2[j].apply(lambda x: \" \".join(item for item in x.split() if ((item not in stopwords) and (len(item)!= 1))))\n",
        "                \n",
        "                for z in dt2[j]:\n",
        "                    list_of_words.extend(z.split())\n",
        "       \n",
        "    except Exception as e:\n",
        "        print(e)"
      ],
      "metadata": {
        "id": "6p-sElYNISgH"
      },
      "execution_count": null,
      "outputs": []
    },
    {
      "cell_type": "code",
      "source": [
        "from collections import Counter\n",
        "(Counter(list_of_words).most_common(50))"
      ],
      "metadata": {
        "id": "u-P14zIWJhTA",
        "colab": {
          "base_uri": "https://localhost:8080/"
        },
        "outputId": "9b62019a-55bb-495f-8f57-7df4d4133731"
      },
      "execution_count": null,
      "outputs": [
        {
          "output_type": "execute_result",
          "data": {
            "text/plain": [
              "[('court', 23501),\n",
              " ('district', 13240),\n",
              " ('state', 7389),\n",
              " ('also', 6669),\n",
              " ('whether', 5889),\n",
              " ('plaintiff', 5477),\n",
              " ('claim', 5377),\n",
              " ('evidence', 5250),\n",
              " ('may', 5087),\n",
              " ('judgment', 5055),\n",
              " ('must', 4776),\n",
              " ('plaintiffs', 4681),\n",
              " ('claims', 4607),\n",
              " ('defendants', 4566),\n",
              " ('case', 4333),\n",
              " ('first', 4323),\n",
              " ('law', 4272),\n",
              " ('amendment', 3882),\n",
              " ('new', 3859),\n",
              " ('summary', 3749),\n",
              " ('one', 3688),\n",
              " ('federal', 3652),\n",
              " ('action', 3534),\n",
              " ('city', 3418),\n",
              " ('reasonable', 3357),\n",
              " ('right', 3353),\n",
              " ('complaint', 3302),\n",
              " ('public', 3272),\n",
              " ('issue', 2999),\n",
              " ('motion', 2968),\n",
              " ('time', 2904),\n",
              " ('school', 2855),\n",
              " ('two', 2843),\n",
              " ('discrimination', 2832),\n",
              " ('supreme', 2821),\n",
              " ('order', 2800),\n",
              " ('decision', 2711),\n",
              " ('rights', 2685),\n",
              " ('title', 2666),\n",
              " ('employment', 2626),\n",
              " ('made', 2551),\n",
              " ('work', 2541),\n",
              " ('fact', 2535),\n",
              " ('states', 2462),\n",
              " ('review', 2458),\n",
              " ('jury', 2457),\n",
              " ('conduct', 2444),\n",
              " ('police', 2405),\n",
              " ('officer', 2404),\n",
              " ('see', 2401)]"
            ]
          },
          "metadata": {},
          "execution_count": 28
        }
      ]
    },
    {
      "cell_type": "code",
      "source": [
        "from collections import Counter\n",
        "counter_list = (Counter(list_of_words).most_common(50))"
      ],
      "metadata": {
        "id": "TL1RXFYvJohZ"
      },
      "execution_count": null,
      "outputs": []
    },
    {
      "cell_type": "code",
      "source": [
        "import seaborn as sns\n",
        "import matplotlib.pyplot as plot\n",
        "sns.set(rc = {'figure.figsize':(20,10)})\n",
        "plot.bar(dict(counter_list).keys(), dict(counter_list).values())\n",
        "plot.xticks(rotation =45)\n",
        "plot.show()"
      ],
      "metadata": {
        "id": "9-7hcdIWJro-",
        "colab": {
          "base_uri": "https://localhost:8080/",
          "height": 647
        },
        "outputId": "5c4f33f9-dada-4273-8d98-a7f3822ef690"
      },
      "execution_count": null,
      "outputs": [
        {
          "output_type": "display_data",
          "data": {
            "image/png": "[encoded data removed]",
            "text/plain": [
              "<Figure size 1440x720 with 1 Axes>"
            ]
          },
          "metadata": {}
        }
      ]
    },
    {
      "cell_type": "code",
      "source": [
        ""
      ],
      "metadata": {
        "id": "OarBiVSuJr2I"
      },
      "execution_count": null,
      "outputs": []
    },
    {
      "cell_type": "markdown",
      "metadata": {
        "id": "leZmAZfbp7RG"
      },
      "source": [
        "Question 2 (20 points). Continue practicing how to do simple exploratory data analysis with Python. The dataset that has been used in this question is called Student Academics Performance Data Set, which can be downloaded at: https://github.com/unt-iialab/info5502-spring2022/blob/main/datasets/lab-assignment-04-student-performance.csv . Please conduct the following analysis:\n",
        "\n",
        "(1) Description of all the columns: for each colmun, count number of rows, number of unqiue element, the frequency of each unqiue element. \n",
        "\n",
        "\n",
        "(2)  Visualize the count for each value in the 'Study Hours' column. Note: Study Hours values comes from this >= 6 hours Good >= 4 hours Average < 2 hours Poor.\n",
        "\n",
        "(3) Using factorplot to show the relationship between numerical and categorical value. Please use figure to show relation between [Study Hours] and [End Semester Percentage]. Percentage is calculated based on the following:\n",
        "\n",
        "if percentage >=80 then Best\n",
        "If percentage >= 60 but less than 80 then Very Good\n",
        "If percentage >= 45 but less than 60 then Good\n",
        "If Percentage >= 30 but less than 45 then Pass\n",
        "If Percentage < 30 then Fail\n",
        "\n",
        "(4) Get the correlation from the data, then plug it to heatmap function and show it as following:\n",
        "\n",
        "![heatmap.png](attachment:heatmap.png)"
      ]
    },
    {
      "cell_type": "code",
      "execution_count": null,
      "metadata": {
        "id": "LSQAC85jp7RI",
        "colab": {
          "base_uri": "https://localhost:8080/"
        },
        "outputId": "a884f174-75ec-48ed-df20-a9ddaf7f664a"
      },
      "outputs": [
        {
          "output_type": "stream",
          "name": "stdout",
          "text": [
            "Column: ge\n",
            "number of rows are: 131\n",
            "number of unique values in this column are: 2\n",
            "M    72\n",
            "F    59\n",
            "Name: ge, dtype: int64\n",
            "\n",
            "Column: cst\n",
            "number of rows are: 131\n",
            "number of unique values in this column are: 5\n",
            "OBC     57\n",
            "G       44\n",
            "ST      20\n",
            "MOBC     6\n",
            "SC       4\n",
            "Name: cst, dtype: int64\n",
            "\n",
            "Column: tnp\n",
            "number of rows are: 131\n",
            "number of unique values in this column are: 4\n",
            "Good    59\n",
            "Vg      38\n",
            "Pass    25\n",
            "Best     9\n",
            "Name: tnp, dtype: int64\n",
            "\n",
            "Column: twp\n",
            "number of rows are: 131\n",
            "number of unique values in this column are: 4\n",
            "Good    65\n",
            "Vg      44\n",
            "Pass    17\n",
            "Best     5\n",
            "Name: twp, dtype: int64\n",
            "\n",
            "Column: iap\n",
            "number of rows are: 131\n",
            "number of unique values in this column are: 4\n",
            "Vg      63\n",
            "Good    53\n",
            "Best     8\n",
            "Pass     7\n",
            "Name: iap, dtype: int64\n",
            "\n",
            "Column: esp\n",
            "number of rows are: 131\n",
            "number of unique values in this column are: 4\n",
            "Good    54\n",
            "Vg      42\n",
            "Pass    27\n",
            "Best     8\n",
            "Name: esp, dtype: int64\n",
            "\n",
            "Column: arr\n",
            "number of rows are: 131\n",
            "number of unique values in this column are: 2\n",
            "N    78\n",
            "Y    53\n",
            "Name: arr, dtype: int64\n",
            "\n",
            "Column: ms\n",
            "number of rows are: 131\n",
            "number of unique values in this column are: 1\n",
            "Unmarried    131\n",
            "Name: ms, dtype: int64\n",
            "\n",
            "Column: ls\n",
            "number of rows are: 131\n",
            "number of unique values in this column are: 2\n",
            "V    92\n",
            "T    39\n",
            "Name: ls, dtype: int64\n",
            "\n",
            "Column: as\n",
            "number of rows are: 131\n",
            "number of unique values in this column are: 2\n",
            "Paid    76\n",
            "Free    55\n",
            "Name: as, dtype: int64\n",
            "\n",
            "Column: fmi\n",
            "number of rows are: 131\n",
            "number of unique values in this column are: 5\n",
            "Medium    63\n",
            "Am        27\n",
            "Low       20\n",
            "High      15\n",
            "Vh         6\n",
            "Name: fmi, dtype: int64\n",
            "\n",
            "Column: fs\n",
            "number of rows are: 131\n",
            "number of unique values in this column are: 3\n",
            "Small      89\n",
            "Average    40\n",
            "Large       2\n",
            "Name: fs, dtype: int64\n",
            "\n",
            "Column: fq\n",
            "number of rows are: 131\n",
            "number of unique values in this column are: 6\n",
            "Um        40\n",
            "10        23\n",
            "12        22\n",
            "Il        20\n",
            "Degree    20\n",
            "Pg         6\n",
            "Name: fq, dtype: int64\n",
            "\n",
            "Column: mq\n",
            "number of rows are: 131\n",
            "number of unique values in this column are: 6\n",
            "Um        52\n",
            "Il        27\n",
            "10        25\n",
            "12        17\n",
            "Degree     7\n",
            "Pg         3\n",
            "Name: mq, dtype: int64\n",
            "\n",
            "Column: fo\n",
            "number of rows are: 131\n",
            "number of unique values in this column are: 5\n",
            "Service     38\n",
            "Business    34\n",
            "Others      29\n",
            "Farmer      27\n",
            "Retired      3\n",
            "Name: fo, dtype: int64\n",
            "\n",
            "Column: mo\n",
            "number of rows are: 131\n",
            "number of unique values in this column are: 5\n",
            "Housewife    115\n",
            "Service       12\n",
            "Others         2\n",
            "Business       1\n",
            "Retired        1\n",
            "Name: mo, dtype: int64\n",
            "\n",
            "Column: nf\n",
            "number of rows are: 131\n",
            "number of unique values in this column are: 3\n",
            "Large      58\n",
            "Average    43\n",
            "Small      30\n",
            "Name: nf, dtype: int64\n",
            "\n",
            "Column: sh\n",
            "number of rows are: 131\n",
            "number of unique values in this column are: 3\n",
            "Average    59\n",
            "Poor       45\n",
            "Good       27\n",
            "Name: sh, dtype: int64\n",
            "\n",
            "Column: ss\n",
            "number of rows are: 131\n",
            "number of unique values in this column are: 2\n",
            "Govt       91\n",
            "Private    40\n",
            "Name: ss, dtype: int64\n",
            "\n",
            "Column: me\n",
            "number of rows are: 131\n",
            "number of unique values in this column are: 4\n",
            "Eng    62\n",
            "Asm    60\n",
            "Hin     7\n",
            "Ben     2\n",
            "Name: me, dtype: int64\n",
            "\n",
            "Column: tt\n",
            "number of rows are: 131\n",
            "number of unique values in this column are: 3\n",
            "Small      78\n",
            "Average    43\n",
            "Large      10\n",
            "Name: tt, dtype: int64\n",
            "\n",
            "Column: atd\n",
            "number of rows are: 131\n",
            "number of unique values in this column are: 3\n",
            "Good       56\n",
            "Average    47\n",
            "Poor       28\n",
            "Name: atd, dtype: int64\n",
            "\n"
          ]
        }
      ],
      "source": [
        "# Your answer here (code + explanation):\n",
        "#question 2:\n",
        "# 1.)\n",
        "import pandas as pd\n",
        "link = 'https://raw.githubusercontent.com/unt-iialab/info5502-spring2022/main/datasets/lab-assignment-04-student-performance.csv'\n",
        "df = pd.read_csv(link)\n",
        "for colmn in df.columns:\n",
        "    print(\"Column:\",colmn)\n",
        "    print(\"number of rows are:\", df[colmn].shape[0])\n",
        "    print(\"number of unique values in this column are:\", df[colmn].value_counts().shape[0])\n",
        "    print(df[colmn].value_counts())\n",
        "    print()"
      ]
    },
    {
      "cell_type": "code",
      "source": [
        "#question 2:\n",
        "#2):\n",
        "import seaborn as sns\n",
        "import matplotlib.pyplot as plot\n",
        "%matplotlib inline\n",
        "sns.countplot(df['sh'])\n",
        "plot.xlabel(\"Study Hours\")\n",
        "plot.ylabel(\"count\")\n",
        "plot.show()"
      ],
      "metadata": {
        "colab": {
          "base_uri": "https://localhost:8080/",
          "height": 340
        },
        "id": "o2ASbRU3SVaG",
        "outputId": "829798f7-f25e-4f16-951e-41169f96362f"
      },
      "execution_count": null,
      "outputs": [
        {
          "output_type": "stream",
          "name": "stderr",
          "text": [
            "/usr/local/lib/python3.7/dist-packages/seaborn/_decorators.py:43: FutureWarning: Pass the following variable as a keyword arg: x. From version 0.12, the only valid positional argument will be `data`, and passing other arguments without an explicit keyword will result in an error or misinterpretation.\n",
            "  FutureWarning\n"
          ]
        },
        {
          "output_type": "display_data",
          "data": {
            "image/png": "[encoded data removed]",
            "text/plain": [
              "<Figure size 432x288 with 1 Axes>"
            ]
          },
          "metadata": {
            "needs_background": "light"
          }
        }
      ]
    },
    {
      "cell_type": "code",
      "source": [
        "#question 2: \n",
        "# 3):\n",
        "import pandas as pd\n",
        "import seaborn as sns\n",
        "from matplotlib import pyplot as plot\n",
        "d_f = pd.DataFrame()\n",
        "d_f['Study Hours']=pd.DataFrame(df.sh)\n",
        "d_f['esp']=pd.DataFrame(df.esp)\n",
        "d_f['esp'].mask(d_f['esp'] == 'Best', 80, inplace=True)\n",
        "d_f['esp'].mask(d_f['esp'] == 'Vg',60, inplace=True)\n",
        "d_f['esp'].mask(d_f['esp'] == 'Good', 45, inplace=True)\n",
        "d_f['esp'].mask(d_f['esp'] == 'Pass', 30, inplace=True)\n",
        "d_f['esp'].mask(d_f['esp'] == 'Fail', 30, inplace=True)\n",
        "d_f['End Semester percentage']=pd.DataFrame(df.esp)\n",
        "sns.factorplot(x='Study Hours',y='esp', kind = 'strip',data=d_f)\n",
        "plot.show()"
      ],
      "metadata": {
        "id": "sAP_ZIEdTCe7",
        "colab": {
          "base_uri": "https://localhost:8080/",
          "height": 424
        },
        "outputId": "7dd1060a-925f-4434-b63a-b73e5a56626f"
      },
      "execution_count": null,
      "outputs": [
        {
          "output_type": "stream",
          "name": "stderr",
          "text": [
            "/usr/local/lib/python3.7/dist-packages/seaborn/categorical.py:3717: UserWarning: The `factorplot` function has been renamed to `catplot`. The original name will be removed in a future release. Please update your code. Note that the default `kind` in `factorplot` (`'point'`) has changed `'strip'` in `catplot`.\n",
            "  warnings.warn(msg)\n"
          ]
        },
        {
          "output_type": "display_data",
          "data": {
            "image/png": "[encoded data removed]",
            "text/plain": [
              "<Figure size 360x360 with 1 Axes>"
            ]
          },
          "metadata": {
            "needs_background": "light"
          }
        }
      ]
    },
    {
      "cell_type": "code",
      "source": [
        "#question 2: \n",
        "# 4):\n",
        "from sklearn import preprocessing\n",
        "import seaborn as sns\n",
        "label = preprocessing.LabelEncoder()  \n",
        "def Encoder(df):\n",
        "    encode_cols = list(df.select_dtypes(include=['category','object']))\n",
        "    lbl_enc = preprocessing.LabelEncoder()\n",
        "    for i in encode_cols:\n",
        "        try:\n",
        "            df[i] = lbl_enc.fit_transform(df[i])\n",
        "        except:\n",
        "            print('encoding error '+i)\n",
        "    return df\n",
        "\n",
        "df1 = Encoder(df)\n",
        "df1 = df1.drop('ms', axis = 1)\n",
        "\n",
        "correlation = df1.corr()\n",
        "sns.set(rc = {'figure.figsize':(20,10)})\n",
        "sns.heatmap(correlation,annot=True)\n",
        "plot.show()"
      ],
      "metadata": {
        "id": "kB0PQWMyUdaR"
      },
      "execution_count": null,
      "outputs": []
    },
    {
      "cell_type": "code",
      "source": [
        ""
      ],
      "metadata": {
        "id": "MYyt41XsSxkf"
      },
      "execution_count": null,
      "outputs": []
    },
    {
      "cell_type": "markdown",
      "metadata": {
        "id": "wPi4b1Y6p7RL"
      },
      "source": [
        "Question 3 (15 points). Download a dataset from Kaggle or other sources. Propose three questions that you wanna to know from the dataset, then write python code to conduct EDA analysis to answer the three questions"
      ]
    },
    {
      "cell_type": "code",
      "execution_count": null,
      "metadata": {
        "id": "X3HSKzQAp7RP"
      },
      "outputs": [],
      "source": [
        "# Your three questions:\n",
        "\n",
        "'''\n",
        "Please list your questions here:\n",
        "\n",
        "1) Are there any extreme values for any of the columns?\n",
        "2) Describe any intresting trend observed by creating heat map for these numeric variable columns?\n",
        "3) Find the total number of null values if any in all of the coloumns present in the data set?\n",
        "'''"
      ]
    },
    {
      "cell_type": "code",
      "source": [
        "from google.colab import drive\n",
        "drive.mount('/content/drive')"
      ],
      "metadata": {
        "id": "y-MxqzLEdUf-"
      },
      "execution_count": null,
      "outputs": []
    },
    {
      "cell_type": "code",
      "execution_count": null,
      "metadata": {
        "id": "0VaGE_2yp7RS"
      },
      "outputs": [],
      "source": [
        "# You code to answer the three questions (Please add comments in the code):\n",
        "#importing libraries needed\n",
        "import pandas as pd\n",
        "import numpy as np\n",
        "import matplotlib.pyplot as plt \n",
        "import seaborn as sns\n",
        "%matplotlib inline"
      ]
    },
    {
      "cell_type": "code",
      "source": [
        "df = pd.read_csv(\"/Utilities.csv\")\n",
        "df"
      ],
      "metadata": {
        "colab": {
          "base_uri": "https://localhost:8080/",
          "height": 739
        },
        "id": "K3YuUBRlrcfw",
        "outputId": "5e8bd9c1-0e7f-425a-c5c1-319dd1e64ae0"
      },
      "execution_count": null,
      "outputs": [
        {
          "output_type": "execute_result",
          "data": {
            "text/html": [
              "\n",
              "  <div id=\"df-637b4c23-127a-4249-b3a6-cdba39096cf7\">\n",
              "    <div class=\"colab-df-container\">\n",
              "      <div>\n",
              "<style scoped>\n",
              "    .dataframe tbody tr th:only-of-type {\n",
              "        vertical-align: middle;\n",
              "    }\n",
              "\n",
              "    .dataframe tbody tr th {\n",
              "        vertical-align: top;\n",
              "    }\n",
              "\n",
              "    .dataframe thead th {\n",
              "        text-align: right;\n",
              "    }\n",
              "</style>\n",
              "<table border=\"1\" class=\"dataframe\">\n",
              "  <thead>\n",
              "    <tr style=\"text-align: right;\">\n",
              "      <th></th>\n",
              "      <th>Company</th>\n",
              "      <th>Fixed_charge</th>\n",
              "      <th>RoR</th>\n",
              "      <th>Cost</th>\n",
              "      <th>Load_factor</th>\n",
              "      <th>Demand_growth</th>\n",
              "      <th>Sales</th>\n",
              "      <th>Nuclear</th>\n",
              "      <th>Fuel_Cost</th>\n",
              "    </tr>\n",
              "  </thead>\n",
              "  <tbody>\n",
              "    <tr>\n",
              "      <th>0</th>\n",
              "      <td>Arizona</td>\n",
              "      <td>1.06</td>\n",
              "      <td>9.2</td>\n",
              "      <td>151</td>\n",
              "      <td>54.4</td>\n",
              "      <td>1.6</td>\n",
              "      <td>9077</td>\n",
              "      <td>0.0</td>\n",
              "      <td>0.628</td>\n",
              "    </tr>\n",
              "    <tr>\n",
              "      <th>1</th>\n",
              "      <td>Boston</td>\n",
              "      <td>0.89</td>\n",
              "      <td>10.3</td>\n",
              "      <td>202</td>\n",
              "      <td>57.9</td>\n",
              "      <td>2.2</td>\n",
              "      <td>5088</td>\n",
              "      <td>25.3</td>\n",
              "      <td>1.555</td>\n",
              "    </tr>\n",
              "    <tr>\n",
              "      <th>2</th>\n",
              "      <td>Central</td>\n",
              "      <td>1.43</td>\n",
              "      <td>15.4</td>\n",
              "      <td>113</td>\n",
              "      <td>53.0</td>\n",
              "      <td>3.4</td>\n",
              "      <td>9212</td>\n",
              "      <td>0.0</td>\n",
              "      <td>1.058</td>\n",
              "    </tr>\n",
              "    <tr>\n",
              "      <th>3</th>\n",
              "      <td>Commonwealth</td>\n",
              "      <td>1.02</td>\n",
              "      <td>11.2</td>\n",
              "      <td>168</td>\n",
              "      <td>56.0</td>\n",
              "      <td>0.3</td>\n",
              "      <td>6423</td>\n",
              "      <td>34.3</td>\n",
              "      <td>0.700</td>\n",
              "    </tr>\n",
              "    <tr>\n",
              "      <th>4</th>\n",
              "      <td>NY</td>\n",
              "      <td>1.49</td>\n",
              "      <td>8.8</td>\n",
              "      <td>192</td>\n",
              "      <td>51.2</td>\n",
              "      <td>1.0</td>\n",
              "      <td>3300</td>\n",
              "      <td>15.6</td>\n",
              "      <td>2.044</td>\n",
              "    </tr>\n",
              "    <tr>\n",
              "      <th>5</th>\n",
              "      <td>Florida</td>\n",
              "      <td>1.32</td>\n",
              "      <td>13.5</td>\n",
              "      <td>111</td>\n",
              "      <td>60.0</td>\n",
              "      <td>-2.2</td>\n",
              "      <td>11127</td>\n",
              "      <td>22.5</td>\n",
              "      <td>1.241</td>\n",
              "    </tr>\n",
              "    <tr>\n",
              "      <th>6</th>\n",
              "      <td>Hawaiian</td>\n",
              "      <td>1.22</td>\n",
              "      <td>12.2</td>\n",
              "      <td>175</td>\n",
              "      <td>67.6</td>\n",
              "      <td>2.2</td>\n",
              "      <td>7642</td>\n",
              "      <td>0.0</td>\n",
              "      <td>1.652</td>\n",
              "    </tr>\n",
              "    <tr>\n",
              "      <th>7</th>\n",
              "      <td>Idaho</td>\n",
              "      <td>1.10</td>\n",
              "      <td>9.2</td>\n",
              "      <td>245</td>\n",
              "      <td>57.0</td>\n",
              "      <td>3.3</td>\n",
              "      <td>13082</td>\n",
              "      <td>0.0</td>\n",
              "      <td>0.309</td>\n",
              "    </tr>\n",
              "    <tr>\n",
              "      <th>8</th>\n",
              "      <td>Kentucky</td>\n",
              "      <td>1.34</td>\n",
              "      <td>13.0</td>\n",
              "      <td>168</td>\n",
              "      <td>60.4</td>\n",
              "      <td>7.2</td>\n",
              "      <td>8406</td>\n",
              "      <td>0.0</td>\n",
              "      <td>0.862</td>\n",
              "    </tr>\n",
              "    <tr>\n",
              "      <th>9</th>\n",
              "      <td>Madison</td>\n",
              "      <td>1.12</td>\n",
              "      <td>12.4</td>\n",
              "      <td>197</td>\n",
              "      <td>53.0</td>\n",
              "      <td>2.7</td>\n",
              "      <td>6455</td>\n",
              "      <td>39.2</td>\n",
              "      <td>0.623</td>\n",
              "    </tr>\n",
              "    <tr>\n",
              "      <th>10</th>\n",
              "      <td>Nevada</td>\n",
              "      <td>0.75</td>\n",
              "      <td>7.5</td>\n",
              "      <td>173</td>\n",
              "      <td>51.5</td>\n",
              "      <td>6.5</td>\n",
              "      <td>17441</td>\n",
              "      <td>0.0</td>\n",
              "      <td>0.768</td>\n",
              "    </tr>\n",
              "    <tr>\n",
              "      <th>11</th>\n",
              "      <td>New England</td>\n",
              "      <td>1.13</td>\n",
              "      <td>10.9</td>\n",
              "      <td>178</td>\n",
              "      <td>62.0</td>\n",
              "      <td>3.7</td>\n",
              "      <td>6154</td>\n",
              "      <td>0.0</td>\n",
              "      <td>1.897</td>\n",
              "    </tr>\n",
              "    <tr>\n",
              "      <th>12</th>\n",
              "      <td>Northern</td>\n",
              "      <td>1.15</td>\n",
              "      <td>12.7</td>\n",
              "      <td>199</td>\n",
              "      <td>53.7</td>\n",
              "      <td>6.4</td>\n",
              "      <td>7179</td>\n",
              "      <td>50.2</td>\n",
              "      <td>0.527</td>\n",
              "    </tr>\n",
              "    <tr>\n",
              "      <th>13</th>\n",
              "      <td>Oklahoma</td>\n",
              "      <td>1.09</td>\n",
              "      <td>12.0</td>\n",
              "      <td>96</td>\n",
              "      <td>49.8</td>\n",
              "      <td>1.4</td>\n",
              "      <td>9673</td>\n",
              "      <td>0.0</td>\n",
              "      <td>0.588</td>\n",
              "    </tr>\n",
              "    <tr>\n",
              "      <th>14</th>\n",
              "      <td>Pacific</td>\n",
              "      <td>0.96</td>\n",
              "      <td>7.6</td>\n",
              "      <td>164</td>\n",
              "      <td>62.2</td>\n",
              "      <td>-0.1</td>\n",
              "      <td>6468</td>\n",
              "      <td>0.9</td>\n",
              "      <td>1.400</td>\n",
              "    </tr>\n",
              "    <tr>\n",
              "      <th>15</th>\n",
              "      <td>Puget</td>\n",
              "      <td>1.16</td>\n",
              "      <td>9.9</td>\n",
              "      <td>252</td>\n",
              "      <td>56.0</td>\n",
              "      <td>9.2</td>\n",
              "      <td>15991</td>\n",
              "      <td>0.0</td>\n",
              "      <td>0.620</td>\n",
              "    </tr>\n",
              "    <tr>\n",
              "      <th>16</th>\n",
              "      <td>San Diego</td>\n",
              "      <td>0.76</td>\n",
              "      <td>6.4</td>\n",
              "      <td>136</td>\n",
              "      <td>61.9</td>\n",
              "      <td>9.0</td>\n",
              "      <td>5714</td>\n",
              "      <td>8.3</td>\n",
              "      <td>1.920</td>\n",
              "    </tr>\n",
              "    <tr>\n",
              "      <th>17</th>\n",
              "      <td>Southern</td>\n",
              "      <td>1.05</td>\n",
              "      <td>12.6</td>\n",
              "      <td>150</td>\n",
              "      <td>56.7</td>\n",
              "      <td>2.7</td>\n",
              "      <td>10140</td>\n",
              "      <td>0.0</td>\n",
              "      <td>1.108</td>\n",
              "    </tr>\n",
              "    <tr>\n",
              "      <th>18</th>\n",
              "      <td>Texas</td>\n",
              "      <td>1.16</td>\n",
              "      <td>11.7</td>\n",
              "      <td>104</td>\n",
              "      <td>54.0</td>\n",
              "      <td>-2.1</td>\n",
              "      <td>13507</td>\n",
              "      <td>0.0</td>\n",
              "      <td>0.636</td>\n",
              "    </tr>\n",
              "    <tr>\n",
              "      <th>19</th>\n",
              "      <td>Wisconsin</td>\n",
              "      <td>1.20</td>\n",
              "      <td>11.8</td>\n",
              "      <td>148</td>\n",
              "      <td>59.9</td>\n",
              "      <td>3.5</td>\n",
              "      <td>7287</td>\n",
              "      <td>41.1</td>\n",
              "      <td>0.702</td>\n",
              "    </tr>\n",
              "    <tr>\n",
              "      <th>20</th>\n",
              "      <td>United</td>\n",
              "      <td>1.04</td>\n",
              "      <td>8.6</td>\n",
              "      <td>204</td>\n",
              "      <td>61.0</td>\n",
              "      <td>3.5</td>\n",
              "      <td>6650</td>\n",
              "      <td>0.0</td>\n",
              "      <td>2.116</td>\n",
              "    </tr>\n",
              "    <tr>\n",
              "      <th>21</th>\n",
              "      <td>Virginia</td>\n",
              "      <td>1.07</td>\n",
              "      <td>9.3</td>\n",
              "      <td>174</td>\n",
              "      <td>54.3</td>\n",
              "      <td>5.9</td>\n",
              "      <td>10093</td>\n",
              "      <td>26.6</td>\n",
              "      <td>1.306</td>\n",
              "    </tr>\n",
              "  </tbody>\n",
              "</table>\n",
              "</div>\n",
              "      <button class=\"colab-df-convert\" onclick=\"convertToInteractive('df-637b4c23-127a-4249-b3a6-cdba39096cf7')\"\n",
              "              title=\"Convert this dataframe to an interactive table.\"\n",
              "              style=\"display:none;\">\n",
              "        \n",
              "  <svg xmlns=\"http://www.w3.org/2000/svg\" height=\"24px\"viewBox=\"0 0 24 24\"\n",
              "       width=\"24px\">\n",
              "    <path d=\"M0 0h24v24H0V0z\" fill=\"none\"/>\n",
              "    <path d=\"M18.56 5.44l.94 2.06.94-2.06 2.06-.94-2.06-.94-.94-2.06-.94 2.06-2.06.94zm-11 1L8.5 8.5l.94-2.06 2.06-.94-2.06-.94L8.5 2.5l-.94 2.06-2.06.94zm10 10l.94 2.06.94-2.06 2.06-.94-2.06-.94-.94-2.06-.94 2.06-2.06.94z\"/><path d=\"M17.41 7.96l-1.37-1.37c-.4-.4-.92-.59-1.43-.59-.52 0-1.04.2-1.43.59L10.3 9.45l-7.72 7.72c-.78.78-.78 2.05 0 2.83L4 21.41c.39.39.9.59 1.41.59.51 0 1.02-.2 1.41-.59l7.78-7.78 2.81-2.81c.8-.78.8-2.07 0-2.86zM5.41 20L4 18.59l7.72-7.72 1.47 1.35L5.41 20z\"/>\n",
              "  </svg>\n",
              "      </button>\n",
              "      \n",
              "  <style>\n",
              "    .colab-df-container {\n",
              "      display:flex;\n",
              "      flex-wrap:wrap;\n",
              "      gap: 12px;\n",
              "    }\n",
              "\n",
              "    .colab-df-convert {\n",
              "      background-color: #E8F0FE;\n",
              "      border: none;\n",
              "      border-radius: 50%;\n",
              "      cursor: pointer;\n",
              "      display: none;\n",
              "      fill: #1967D2;\n",
              "      height: 32px;\n",
              "      padding: 0 0 0 0;\n",
              "      width: 32px;\n",
              "    }\n",
              "\n",
              "    .colab-df-convert:hover {\n",
              "      background-color: #E2EBFA;\n",
              "      box-shadow: 0px 1px 2px rgba(60, 64, 67, 0.3), 0px 1px 3px 1px rgba(60, 64, 67, 0.15);\n",
              "      fill: #174EA6;\n",
              "    }\n",
              "\n",
              "    [theme=dark] .colab-df-convert {\n",
              "      background-color: #3B4455;\n",
              "      fill: #D2E3FC;\n",
              "    }\n",
              "\n",
              "    [theme=dark] .colab-df-convert:hover {\n",
              "      background-color: #434B5C;\n",
              "      box-shadow: 0px 1px 3px 1px rgba(0, 0, 0, 0.15);\n",
              "      filter: drop-shadow(0px 1px 2px rgba(0, 0, 0, 0.3));\n",
              "      fill: #FFFFFF;\n",
              "    }\n",
              "  </style>\n",
              "\n",
              "      <script>\n",
              "        const buttonEl =\n",
              "          document.querySelector('#df-637b4c23-127a-4249-b3a6-cdba39096cf7 button.colab-df-convert');\n",
              "        buttonEl.style.display =\n",
              "          google.colab.kernel.accessAllowed ? 'block' : 'none';\n",
              "\n",
              "        async function convertToInteractive(key) {\n",
              "          const element = document.querySelector('#df-637b4c23-127a-4249-b3a6-cdba39096cf7');\n",
              "          const dataTable =\n",
              "            await google.colab.kernel.invokeFunction('convertToInteractive',\n",
              "                                                     [key], {});\n",
              "          if (!dataTable) return;\n",
              "\n",
              "          const docLinkHtml = 'Like what you see? Visit the ' +\n",
              "            '<a target=\"_blank\" href=https://colab.research.google.com/notebooks/data_table.ipynb>data table notebook</a>'\n",
              "            + ' to learn more about interactive tables.';\n",
              "          element.innerHTML = '';\n",
              "          dataTable['output_type'] = 'display_data';\n",
              "          await google.colab.output.renderOutput(dataTable, element);\n",
              "          const docLink = document.createElement('div');\n",
              "          docLink.innerHTML = docLinkHtml;\n",
              "          element.appendChild(docLink);\n",
              "        }\n",
              "      </script>\n",
              "    </div>\n",
              "  </div>\n",
              "  "
            ],
            "text/plain": [
              "         Company  Fixed_charge   RoR  Cost  Load_factor  Demand_growth  Sales  \\\n",
              "0       Arizona           1.06   9.2   151         54.4            1.6   9077   \n",
              "1        Boston           0.89  10.3   202         57.9            2.2   5088   \n",
              "2       Central           1.43  15.4   113         53.0            3.4   9212   \n",
              "3   Commonwealth          1.02  11.2   168         56.0            0.3   6423   \n",
              "4             NY          1.49   8.8   192         51.2            1.0   3300   \n",
              "5       Florida           1.32  13.5   111         60.0           -2.2  11127   \n",
              "6      Hawaiian           1.22  12.2   175         67.6            2.2   7642   \n",
              "7          Idaho          1.10   9.2   245         57.0            3.3  13082   \n",
              "8       Kentucky          1.34  13.0   168         60.4            7.2   8406   \n",
              "9       Madison           1.12  12.4   197         53.0            2.7   6455   \n",
              "10        Nevada          0.75   7.5   173         51.5            6.5  17441   \n",
              "11   New England          1.13  10.9   178         62.0            3.7   6154   \n",
              "12      Northern          1.15  12.7   199         53.7            6.4   7179   \n",
              "13      Oklahoma          1.09  12.0    96         49.8            1.4   9673   \n",
              "14      Pacific           0.96   7.6   164         62.2           -0.1   6468   \n",
              "15         Puget          1.16   9.9   252         56.0            9.2  15991   \n",
              "16     San Diego          0.76   6.4   136         61.9            9.0   5714   \n",
              "17      Southern          1.05  12.6   150         56.7            2.7  10140   \n",
              "18         Texas          1.16  11.7   104         54.0           -2.1  13507   \n",
              "19     Wisconsin          1.20  11.8   148         59.9            3.5   7287   \n",
              "20        United          1.04   8.6   204         61.0            3.5   6650   \n",
              "21      Virginia          1.07   9.3   174         54.3            5.9  10093   \n",
              "\n",
              "    Nuclear  Fuel_Cost  \n",
              "0       0.0      0.628  \n",
              "1      25.3      1.555  \n",
              "2       0.0      1.058  \n",
              "3      34.3      0.700  \n",
              "4      15.6      2.044  \n",
              "5      22.5      1.241  \n",
              "6       0.0      1.652  \n",
              "7       0.0      0.309  \n",
              "8       0.0      0.862  \n",
              "9      39.2      0.623  \n",
              "10      0.0      0.768  \n",
              "11      0.0      1.897  \n",
              "12     50.2      0.527  \n",
              "13      0.0      0.588  \n",
              "14      0.9      1.400  \n",
              "15      0.0      0.620  \n",
              "16      8.3      1.920  \n",
              "17      0.0      1.108  \n",
              "18      0.0      0.636  \n",
              "19     41.1      0.702  \n",
              "20      0.0      2.116  \n",
              "21     26.6      1.306  "
            ]
          },
          "metadata": {},
          "execution_count": 38
        }
      ]
    },
    {
      "cell_type": "code",
      "source": [
        "#question 1:\n",
        "#creating box plots for all the columns present by using the below logic.\n",
        "fig, axs = plt.subplots(1, 2)\n",
        "axs[0].boxplot(df.Fixed_charge)\n",
        "axs[0].set_title('Fixed_charge')\n",
        "axs[1].boxplot(df.RoR)\n",
        "axs[1].set_title('RoR')\n",
        "\n",
        "fig, axs = plt.subplots(1, 2)\n",
        "axs[0].boxplot(df.Cost)\n",
        "axs[0].set_title('Cost')\n",
        "axs[1].boxplot(df.Fuel_Cost)\n",
        "axs[1].set_title('Fuel_Cost')\n",
        "\n",
        "fig, axs = plt.subplots(1, 2)\n",
        "axs[0].boxplot(df.Load_factor)\n",
        "axs[0].set_title('Load_factor')\n",
        "axs[1].boxplot(df.Demand_growth)\n",
        "axs[1].set_title('Demand_growth')\n",
        "\n",
        "fig, axs = plt.subplots(1, 2)\n",
        "axs[0].boxplot(df.Sales)\n",
        "axs[0].set_title('Sales')\n",
        "axs[1].boxplot(df.Nuclear)\n",
        "axs[1].set_title('Nuclear')"
      ],
      "metadata": {
        "colab": {
          "base_uri": "https://localhost:8080/",
          "height": 1000
        },
        "id": "B5n5IaZIxrNr",
        "outputId": "0fa29e62-c134-4358-db64-c736c2adcdf8"
      },
      "execution_count": null,
      "outputs": [
        {
          "output_type": "execute_result",
          "data": {
            "text/plain": [
              "Text(0.5, 1.0, 'Nuclear')"
            ]
          },
          "metadata": {},
          "execution_count": 39
        },
        {
          "output_type": "display_data",
          "data": {
            "image/png": "[encoded data removed]",
            "text/plain": [
              "<Figure size 432x288 with 2 Axes>"
            ]
          },
          "metadata": {
            "needs_background": "light"
          }
        },
        {
          "output_type": "display_data",
          "data": {
            "image/png": "[encoded data removed]",
            "text/plain": [
              "<Figure size 432x288 with 2 Axes>"
            ]
          },
          "metadata": {
            "needs_background": "light"
          }
        },
        {
          "output_type": "display_data",
          "data": {
            "image/png": "[encoded data removed]",
            "text/plain": [
              "<Figure size 432x288 with 2 Axes>"
            ]
          },
          "metadata": {
            "needs_background": "light"
          }
        },
        {
          "output_type": "display_data",
          "data": {
            "image/png": "[encoded data removed]",
            "text/plain": [
              "<Figure size 432x288 with 2 Axes>"
            ]
          },
          "metadata": {
            "needs_background": "light"
          }
        }
      ]
    },
    {
      "cell_type": "markdown",
      "source": [
        "Out of these variables, \"Fixed_charge\" variable has the extreme values because we can see outliers present in the plot which are both extremely high and low. Also, sales has extreme values, the values outside the maximun fence of the box plot that are very high"
      ],
      "metadata": {
        "id": "_D-FCgBIz-ft"
      }
    },
    {
      "cell_type": "code",
      "source": [
        "#question 2:\n",
        "#creating heat map to find out correlation between columns\n",
        "df_Corr=df.corr()\n",
        "annot=True\n",
        "fig,ax1 = plt.subplots(1)\n",
        "ax1 = sns.heatmap(df_Corr, linewidth=0.5,ax=ax1,annot=annot)"
      ],
      "metadata": {
        "id": "xUJ4_eKVzeFp"
      },
      "execution_count": null,
      "outputs": []
    },
    {
      "cell_type": "markdown",
      "source": [
        " From the Heat Map created above it is inferred that the corelation between RoR to Fixed_charge is having higest coreltion with a value of 0.64. Fuel cost and cost has very low correlation."
      ],
      "metadata": {
        "id": "nmaOL-t_0FT9"
      }
    },
    {
      "cell_type": "code",
      "source": [
        "#question 3:\n",
        "#to find out null values in all columns\n",
        "df.isnull().sum()"
      ],
      "metadata": {
        "colab": {
          "base_uri": "https://localhost:8080/"
        },
        "id": "ON2GkQNpy3uL",
        "outputId": "80bf6651-4781-44ce-8222-33d5515d1f4c"
      },
      "execution_count": null,
      "outputs": [
        {
          "output_type": "execute_result",
          "data": {
            "text/plain": [
              "Company          0\n",
              "Fixed_charge     0\n",
              "RoR              0\n",
              "Cost             0\n",
              "Load_factor      0\n",
              "Demand_growth    0\n",
              "Sales            0\n",
              "Nuclear          0\n",
              "Fuel_Cost        0\n",
              "dtype: int64"
            ]
          },
          "metadata": {},
          "execution_count": 41
        }
      ]
    }
  ],
  "metadata": {
    "kernelspec": {
      "display_name": "Python 3",
      "language": "python",
      "name": "python3"
    },
    "language_info": {
      "codemirror_mode": {
        "name": "ipython",
        "version": 3
      },
      "file_extension": ".py",
      "mimetype": "text/x-python",
      "name": "python",
      "nbconvert_exporter": "python",
      "pygments_lexer": "ipython3",
      "version": "3.8.5"
    },
    "colab": {
      "name": "Copy of lab_assignment_04.ipynb",
      "provenance": [],
      "include_colab_link": true
    }
  },
  "nbformat": 4,
  "nbformat_minor": 0
}
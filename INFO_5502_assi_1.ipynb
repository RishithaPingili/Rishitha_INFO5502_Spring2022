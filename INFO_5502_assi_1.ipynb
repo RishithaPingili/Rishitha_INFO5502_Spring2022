{
  "cells": [
    {
      "cell_type": "markdown",
      "metadata": {
        "id": "view-in-github"
      },
      "source": [
        "<a href=\"https://colab.research.google.com/github/unt-iialab/INFO5731_Spring2020/blob/master/In_class_exercise/In_class_exercise_01.ipynb\" target=\"_parent\"><img src=\"https://colab.research.google.com/assets/colab-badge.svg\" alt=\"Open In Colab\"/></a>"
      ]
    },
    {
      "cell_type": "markdown",
      "metadata": {
        "id": "DymRJbxDBCnf"
      },
      "source": [
        "# **The first Lab-assignment (01/25/2022, 50 points in total)**"
      ]
    },
    {
      "cell_type": "markdown",
      "metadata": {
        "id": "jJDe71iLB616"
      },
      "source": [
        "(1) Write a Python program to count the number of characters in a string. (5 points)\n",
        "\n",
        "Sample String : 'google.com', \n",
        "\n",
        "Expected Result : {'o': 3, 'g': 2, '.': 1, 'e': 1, 'l': 1, 'm': 1, 'c': 1}"
      ]
    },
    {
      "cell_type": "code",
      "execution_count": 28,
      "metadata": {
        "colab": {
          "base_uri": "https://localhost:8080/"
        },
        "id": "MtKskTzbCLaU",
        "outputId": "b2e4ccd7-e08b-4432-a89c-929130ea52b0"
      },
      "outputs": [
        {
          "output_type": "stream",
          "name": "stdout",
          "text": [
            "count of all characters in a string :\n",
            " {'R': 1, 'i': 5, 's': 1, 'h': 2, 't': 1, 'a': 1, ' ': 1, 'P': 1, 'n': 1, 'g': 1, 'l': 1}\n"
          ]
        }
      ],
      "source": [
        "input = 'Rishitha Pingili'\n",
        "output = {}\n",
        "for i in input:\n",
        "  if i in output:\n",
        "    output[i] += 1\n",
        "  else:\n",
        "    output[i] = 1\n",
        "print (\"count of all characters in a string :\\n \" +  str(output))\n",
        "\n",
        "\n",
        "\n"
      ]
    },
    {
      "cell_type": "markdown",
      "metadata": {
        "id": "55W9AMdXCSpV"
      },
      "source": [
        "(2) Write a Python program to sum all the items in a list. (5 points)"
      ]
    },
    {
      "cell_type": "code",
      "execution_count": 30,
      "metadata": {
        "colab": {
          "base_uri": "https://localhost:8080/"
        },
        "id": "I57NXsauCec2",
        "outputId": "85dcc8e1-91dc-4379-b339-ddbed3a4ede1"
      },
      "outputs": [
        {
          "output_type": "stream",
          "name": "stdout",
          "text": [
            "sum of all items in the given list:  121\n"
          ]
        }
      ],
      "source": [
        "# write your answer here\n",
        "\n",
        "sum = 0\n",
        "inputlist= [21,22,24,33,21]\n",
        "#using for loop to find sum of all elements in list\n",
        "for i in range(0, len(inputlist)):\n",
        "    sum = sum + inputlist[i]\n",
        "print(\"sum of all items in the given list: \", sum)"
      ]
    },
    {
      "cell_type": "markdown",
      "metadata": {
        "id": "4ulBZ6yhCi9F"
      },
      "source": [
        "(3) Write a Python program to get a string from a given string where all occurrences of its first char have been changed to '\\$', except the first char itself. (5 points)\n",
        "\n",
        "Sample String : 'restart', \n",
        "\n",
        "Expected Result : 'resta\\$t'"
      ]
    },
    {
      "cell_type": "code",
      "execution_count": 31,
      "metadata": {
        "colab": {
          "base_uri": "https://localhost:8080/"
        },
        "id": "Fj0XhwbBCw2o",
        "outputId": "3f66532f-cc9e-4622-aad0-a52483e31884"
      },
      "outputs": [
        {
          "output_type": "stream",
          "name": "stdout",
          "text": [
            "rishitha $eddy $\n"
          ]
        }
      ],
      "source": [
        "# write your answer here\n",
        "\n",
        "input = \"rishitha reddy r\"\n",
        "output = input[0]+''\n",
        "for i in range(1, len(input)):\n",
        "   \n",
        "    if(input[i] == input[0]): \n",
        "        output += '$'\n",
        "    else:\n",
        "        output += input[i]\n",
        "print(output)\n",
        "  \n",
        "\n",
        "    \n",
        "\n",
        "\n",
        "\n",
        "\n",
        "\n"
      ]
    },
    {
      "cell_type": "markdown",
      "metadata": {
        "id": "_bIP7s1MCzue"
      },
      "source": [
        "(4) Write a program with python which could accept two parameter a and b to calculate and output the result of S, where \n",
        "\n",
        "$\\ S=3.14*(1+a/b)^3$ (5 points)\n",
        "\n"
      ]
    },
    {
      "cell_type": "code",
      "execution_count": 32,
      "metadata": {
        "colab": {
          "base_uri": "https://localhost:8080/"
        },
        "id": "w79QilHXD3Mg",
        "outputId": "d76698ac-0aa5-4f55-fc0a-bcd579c2b7d3"
      },
      "outputs": [
        {
          "output_type": "stream",
          "name": "stdout",
          "text": [
            "5.4286721054031615\n"
          ]
        }
      ],
      "source": [
        "import math\n",
        "def calc(a,b):\n",
        "  s=math.pi*(1+a/b)**3\n",
        "  return s\n",
        "# Print the value of pi\n",
        "print(calc(1,5))"
      ]
    },
    {
      "cell_type": "markdown",
      "metadata": {
        "id": "xCa2bK9aD4Q3"
      },
      "source": [
        "(5) Write a Python program to concatenate following dictionaries to create a new one. (5 points)\n",
        "\n",
        "Sample Dictionary : dic1={1:10, 2:20}, dic2={3:30, 4:40}, dic3={5:50,6:60}, \n",
        "\n",
        "Expected Result : {1: 10, 2: 20, 3: 30, 4: 40, 5: 50, 6: 60}\n"
      ]
    },
    {
      "cell_type": "code",
      "execution_count": 33,
      "metadata": {
        "colab": {
          "base_uri": "https://localhost:8080/"
        },
        "id": "_z4aLqAbEET1",
        "outputId": "bca600b9-8c2f-4de0-bb4f-d04207c2e716"
      },
      "outputs": [
        {
          "output_type": "stream",
          "name": "stdout",
          "text": [
            "{1: 10, 2: 20, 3: 30, 4: 40, 5: 50, 6: 60}\n"
          ]
        }
      ],
      "source": [
        "dic1={1:10, 2:20}\n",
        "dic2={3:30, 4:40}\n",
        "dic3={5:50,6:60}\n",
        "dic4 = {}\n",
        "d4={}\n",
        "#merge using update function in python\n",
        "for i in (dic1,dic2,dic3):\n",
        "  dic4.update(i)\n",
        "print(dic4)\n",
        "\n",
        "\n",
        "\n",
        "\n",
        "\n"
      ]
    },
    {
      "cell_type": "markdown",
      "metadata": {
        "id": "0v48Vqa7FrQh"
      },
      "source": [
        "(6) Write a Python program to check whether an element exists within a tuple. (5 points)"
      ]
    },
    {
      "cell_type": "code",
      "execution_count": 34,
      "metadata": {
        "colab": {
          "base_uri": "https://localhost:8080/"
        },
        "id": "7WEmgq-DF2P1",
        "outputId": "46418410-ecd8-463f-f76b-6f45c4b9b5bb"
      },
      "outputs": [
        {
          "output_type": "stream",
          "name": "stdout",
          "text": [
            "Element exists in tuple\n"
          ]
        }
      ],
      "source": [
        "tuple1=(1,2,3)\n",
        "element = 2\n",
        "if element in tuple1:\n",
        "  print(\"Element exists in tuple\")\n",
        "else:\n",
        "  print(\"Element doesnot exists in tuple\")\n",
        "\n",
        "\n",
        "\n",
        "\n"
      ]
    },
    {
      "cell_type": "markdown",
      "metadata": {
        "id": "vD5PYLMuGga_"
      },
      "source": [
        "(7) Write a Python program to find maximum and the minimum value in a set. (5 points)"
      ]
    },
    {
      "cell_type": "code",
      "execution_count": 35,
      "metadata": {
        "colab": {
          "base_uri": "https://localhost:8080/"
        },
        "id": "t0D5kdJUGjjw",
        "outputId": "768c0b6b-e6b4-46c2-9206-89dce77ea1f6"
      },
      "outputs": [
        {
          "output_type": "stream",
          "name": "stdout",
          "text": [
            "44\n",
            "1\n"
          ]
        }
      ],
      "source": [
        "def MAX(sets):\n",
        "    return (max(sets))\n",
        "# used max function to get maximum value in a set\n",
        "sets = set([11,1.5,2,22,31,15,44])\n",
        "print(MAX(sets))\n",
        "\n",
        "def MIN(sets):\n",
        "    return (min(sets))\n",
        "#used min function to get minimum value in a set\n",
        "sets = set([12,46.5,11,28,54,1])\n",
        "print(MIN(sets))"
      ]
    },
    {
      "cell_type": "markdown",
      "metadata": {
        "id": "uHkd-y5VhVWC"
      },
      "source": [
        "(8) Write a Python program to randomly divide the students in this class into six groups for term projects, each group should have at least 4 students but no more than 6 students (including 6). Here is the students list: (5 points)\n",
        "\n",
        "studnet_list = ['ja0964','sa1198','sb1357','vb0218','sc1229','kg0569','kg0470','sg1297','bg0320','fh0141','jl1252','sk1386',\n",
        "           'ak0956','sk1390','sk1458','sk1313','ak0934','vm0377','nm0618','sm1640','sm1907','gn0108','pr0353','dr0609','ms1500','aos0040','ds0814', 'av0659','nv0234','hy0232']"
      ]
    },
    {
      "cell_type": "code",
      "execution_count": 36,
      "metadata": {
        "colab": {
          "base_uri": "https://localhost:8080/"
        },
        "id": "3iGbmcOBhTwy",
        "outputId": "eb85bb58-cdbc-4377-dc07-cd8094aa3b47"
      },
      "outputs": [
        {
          "output_type": "execute_result",
          "data": {
            "text/plain": [
              "[['ja0964', 'sa1198', 'sb1357', 'vb0218', 'sc1229'],\n",
              " ['kg0569', 'kg0470', 'sg1297', 'bg0320', 'fh0141'],\n",
              " ['jl1252', 'sk1386', 'ak0956', 'sk1390', 'sk1458'],\n",
              " ['sk1313', 'ak0934', 'vm0377', 'nm0618', 'sm1640'],\n",
              " ['sm1907', 'gn0108', 'pr0353', 'dr0609', 'ms1500'],\n",
              " ['aos0040', 'ds0814', 'av0659', 'nv0234', 'hy0232']]"
            ]
          },
          "metadata": {},
          "execution_count": 36
        }
      ],
      "source": [
        "import random\n",
        "studnet_list = ['ja0964','sa1198','sb1357','vb0218','sc1229','kg0569','kg0470','sg1297','bg0320','fh0141','jl1252','sk1386', 'ak0956','sk1390','sk1458','sk1313',\n",
        "                'ak0934','vm0377','nm0618','sm1640',\n",
        "                'sm1907','gn0108','pr0353','dr0609','ms1500','aos0040','ds0814', 'av0659','nv0234','hy0232']\n",
        "#using partition to divide into groups\n",
        "def partition(stu_list, n): \n",
        "    divide = len(stu_list) / float(n) \n",
        "    return [ stu_list[int(round(divide * i)): int(round(divide * (i + 1)))] for i in range(n) ]\n",
        "\n",
        "partition(studnet_list,6)"
      ]
    },
    {
      "cell_type": "markdown",
      "metadata": {
        "id": "rrXosBeaGU9P"
      },
      "source": [
        "(9) Write a Python program to find the duplicate elements in a given array of integers. Return -1 If there are no such elements. (5 points)"
      ]
    },
    {
      "cell_type": "code",
      "execution_count": 37,
      "metadata": {
        "colab": {
          "base_uri": "https://localhost:8080/"
        },
        "id": "p7AVEgbJGU9Q",
        "outputId": "6981ec31-a013-4710-f280-316c426cf119"
      },
      "outputs": [
        {
          "output_type": "stream",
          "name": "stdout",
          "text": [
            "-1\n",
            "4\n"
          ]
        }
      ],
      "source": [
        "def duplicates(arr):\n",
        "    given_array = set()\n",
        "    output = -1\n",
        "    for i in range(len(arr)):\n",
        "        if arr[i] in given_array:\n",
        "            return arr[i]\n",
        "        else:\n",
        "            given_array.add(arr[i])\n",
        "    return output\n",
        "#array where there are no duplicate values\n",
        "print(duplicates([1,2,3,4,5]))\n",
        "#array where there are duplicate values \n",
        "print(duplicates([1,2,3,4,4,5,5,1]))"
      ]
    },
    {
      "cell_type": "markdown",
      "metadata": {
        "id": "IzqjPmDkGU9Q"
      },
      "source": [
        "(10) Write a Python program to select all the Sundays of a specified year. (5 extra points)"
      ]
    },
    {
      "cell_type": "code",
      "execution_count": 38,
      "metadata": {
        "colab": {
          "base_uri": "https://localhost:8080/"
        },
        "id": "ZmLkn7mfGU9R",
        "outputId": "54140b7f-776f-4e00-9a29-526c4e0284c4"
      },
      "outputs": [
        {
          "output_type": "stream",
          "name": "stdout",
          "text": [
            "2021-01-03\n",
            "2021-01-10\n",
            "2021-01-17\n",
            "2021-01-24\n",
            "2021-01-31\n",
            "2021-02-07\n",
            "2021-02-14\n",
            "2021-02-21\n",
            "2021-02-28\n",
            "2021-03-07\n",
            "2021-03-14\n",
            "2021-03-21\n",
            "2021-03-28\n",
            "2021-04-04\n",
            "2021-04-11\n",
            "2021-04-18\n",
            "2021-04-25\n",
            "2021-05-02\n",
            "2021-05-09\n",
            "2021-05-16\n",
            "2021-05-23\n",
            "2021-05-30\n",
            "2021-06-06\n",
            "2021-06-13\n",
            "2021-06-20\n",
            "2021-06-27\n",
            "2021-07-04\n",
            "2021-07-11\n",
            "2021-07-18\n",
            "2021-07-25\n",
            "2021-08-01\n",
            "2021-08-08\n",
            "2021-08-15\n",
            "2021-08-22\n",
            "2021-08-29\n",
            "2021-09-05\n",
            "2021-09-12\n",
            "2021-09-19\n",
            "2021-09-26\n",
            "2021-10-03\n",
            "2021-10-10\n",
            "2021-10-17\n",
            "2021-10-24\n",
            "2021-10-31\n",
            "2021-11-07\n",
            "2021-11-14\n",
            "2021-11-21\n",
            "2021-11-28\n",
            "2021-12-05\n",
            "2021-12-12\n",
            "2021-12-19\n",
            "2021-12-26\n"
          ]
        }
      ],
      "source": [
        "from datetime import date, timedelta\n",
        "#used import date ,time functions\n",
        "def sundays(year):\n",
        "       date1 = date(year, 1, 1)\n",
        "       date1 += timedelta(days = 6 - date1.weekday())  \n",
        "       while date1.year == year:\n",
        "          yield date1\n",
        "          date1 += timedelta(days = 7)\n",
        "          \n",
        "for sun in sundays(2021):\n",
        "   print(sun)"
      ]
    },
    {
      "cell_type": "code",
      "source": [
        ""
      ],
      "metadata": {
        "id": "bk73TRZE4Ap9"
      },
      "execution_count": null,
      "outputs": []
    }
  ],
  "metadata": {
    "colab": {
      "collapsed_sections": [],
      "name": "data science as-1",
      "provenance": []
    },
    "kernelspec": {
      "display_name": "Python 3",
      "language": "python",
      "name": "python3"
    },
    "language_info": {
      "codemirror_mode": {
        "name": "ipython",
        "version": 3
      },
      "file_extension": ".py",
      "mimetype": "text/x-python",
      "name": "python",
      "nbconvert_exporter": "python",
      "pygments_lexer": "ipython3",
      "version": "3.8.5"
    }
  },
  "nbformat": 4,
  "nbformat_minor": 0
}
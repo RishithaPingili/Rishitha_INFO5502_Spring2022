{
  "cells": [
    {
      "cell_type": "markdown",
      "metadata": {
        "id": "view-in-github",
        "colab_type": "text"
      },
      "source": [
        "<a href=\"https://colab.research.google.com/github/RishithaPingili/Rishitha_INFO5502_Spring2022/blob/main/INFO_5502_Mid_term_Exam_Spring2022.ipynb\" target=\"_parent\"><img src=\"https://colab.research.google.com/assets/colab-badge.svg\" alt=\"Open In Colab\"/></a>"
      ]
    },
    {
      "cell_type": "markdown",
      "metadata": {
        "id": "OtCf8-IlpSy-"
      },
      "source": [
        "### INFO 5502 Mid-term Exam (03/10/2022, 80 points in total)"
      ]
    },
    {
      "cell_type": "code",
      "source": [
        "import numpy as np\n",
        "from datascience import *"
      ],
      "metadata": {
        "colab": {
          "base_uri": "https://localhost:8080/"
        },
        "id": "t-Ykb55CBlZK",
        "outputId": "f33afcec-74dc-45f1-cb3d-bbc212cee3d2"
      },
      "execution_count": 2,
      "outputs": [
        {
          "output_type": "stream",
          "name": "stderr",
          "text": [
            "/usr/local/lib/python3.7/dist-packages/datascience/tables.py:17: MatplotlibDeprecationWarning: The 'warn' parameter of use() is deprecated since Matplotlib 3.1 and will be removed in 3.3.  If any parameter follows 'warn', they should be pass as keyword, not positionally.\n",
            "  matplotlib.use('agg', warn=False)\n",
            "/usr/local/lib/python3.7/dist-packages/datascience/util.py:10: MatplotlibDeprecationWarning: The 'warn' parameter of use() is deprecated since Matplotlib 3.1 and will be removed in 3.3.  If any parameter follows 'warn', they should be pass as keyword, not positionally.\n",
            "  matplotlib.use('agg', warn=False)\n"
          ]
        }
      ]
    },
    {
      "cell_type": "markdown",
      "metadata": {
        "id": "qHjtZsE1pSzC"
      },
      "source": [
        "<span style='background:yellow'>**Question 1 (5 pt).**</span> Make an array called `weird_numbers` containing the following numbers (in the given order):\n",
        "\n",
        "1. -3\n",
        "2. the sine of 2.1\n",
        "3. 5\n",
        "4. 4 to the power of the cosine of 4.2\n",
        "\n",
        "*Hint:* `sin` and `cos` are functions in the `math` module."
      ]
    },
    {
      "cell_type": "code",
      "execution_count": 5,
      "metadata": {
        "colab": {
          "base_uri": "https://localhost:8080/"
        },
        "id": "zOAja8z0pSzD",
        "outputId": "413da74b-7245-48ff-8e27-2cc9df6bf257"
      },
      "outputs": [
        {
          "output_type": "stream",
          "name": "stdout",
          "text": [
            "[-3, 0.8632093666488737, 5, 0.5067964617539602]\n"
          ]
        }
      ],
      "source": [
        "#### You code here\n",
        "\n",
        "#importing necessary libraries\n",
        "import math as m \n",
        "#creating a array named 'weird_numbers'\n",
        "weird_numbers=[]\n",
        "# adding all the mentioned numbers in the same order to the array.\n",
        "weird_numbers.append(-3)\n",
        "weird_numbers.append(m.sin(2.1))\n",
        "weird_numbers.append(5)\n",
        "weird_numbers.append(pow(4,m.cos(4.2)))\n",
        "print(weird_numbers)"
      ]
    },
    {
      "cell_type": "markdown",
      "metadata": {
        "id": "yqeoClM4pSzE"
      },
      "source": [
        "<span style='background:yellow'>**Question 2 (5 pt).**</span> Write a simple function that takes in a number (weight in pounds) and returns a number which is the coreesponding conversion to kg.\n",
        "\n",
        "Test it by calling the function on 15 and 27. E.g., `convert_pounds_to_kg(15)`, `convert_pounds_to_kg(27)`. Print both to screen.\n",
        "\n",
        "Hint: 1 pound = 0.453592 kg"
      ]
    },
    {
      "cell_type": "code",
      "execution_count": 6,
      "metadata": {
        "colab": {
          "base_uri": "https://localhost:8080/"
        },
        "id": "3bjIsAL-pSzF",
        "outputId": "b0ddc314-a26b-48a7-864e-56211e951f82"
      },
      "outputs": [
        {
          "output_type": "stream",
          "name": "stdout",
          "text": [
            "(15, 6.8181818181818175)\n",
            "(27, 12.272727272727272)\n"
          ]
        }
      ],
      "source": [
        "#### You code here\n",
        "\n",
        "def convert_pounds_to_kg(number):\n",
        "  #converting pounds to kilograms\n",
        "    kgs = number / 2.2\n",
        "    #both pound and its respective kilogram conversion will be displayed\n",
        "    return number,kgs\n",
        "\n",
        "print(convert_pounds_to_kg(15))\n",
        "print(convert_pounds_to_kg(27))\n"
      ]
    },
    {
      "cell_type": "markdown",
      "metadata": {
        "id": "EWWMT8DApSzF"
      },
      "source": [
        "<span style='background:yellow'>**Question 3 (5 pt).**</span> We've loaded an array of temperatures in the next cell.  Each number is the highest temperature observed on a day at a climate observation station, mostly from the US.  Since they're from the US government agency [NOAA](noaa.gov), all the temperatures are in Fahrenheit.  Convert them all to Celsius by first subtracting 32 from them, then multiplying the results by $\\frac{5}{9}$. Make sure to **ROUND** the final result after converting to Celsius to the nearest integer using the `np.round` function. Download the data from here: https://github.com/unt-iialab/info5502-spring2022/blob/main/datasets/temperatures.csv"
      ]
    },
    {
      "cell_type": "code",
      "source": [
        "from google.colab import drive\n",
        "drive.mount('/content/drive')"
      ],
      "metadata": {
        "id": "hFVq9ccsDGw7"
      },
      "execution_count": null,
      "outputs": []
    },
    {
      "cell_type": "code",
      "execution_count": 7,
      "metadata": {
        "colab": {
          "base_uri": "https://localhost:8080/"
        },
        "id": "PKQ7YMUKpSzG",
        "outputId": "e4c01d3b-4b27-4cea-fbdb-f657010a2e63"
      },
      "outputs": [
        {
          "output_type": "execute_result",
          "data": {
            "text/plain": [
              "array([-4., 31., 32., ..., 17., 23., 16.])"
            ]
          },
          "metadata": {},
          "execution_count": 7
        }
      ],
      "source": [
        "#### You code here\n",
        "\n",
        "max_temperatures = Table.read_table(\"/content/drive/MyDrive/temparatures.csv\").column(\"Daily Max Temperature\")\n",
        "celsius_max_temperatures=np.round((max_temperatures-32)*(5/9))\n",
        "...\n",
        "\n",
        "celsius_max_temperatures\n",
        "\n"
      ]
    },
    {
      "cell_type": "markdown",
      "metadata": {
        "id": "o0PJjk0RpSzH"
      },
      "source": [
        "<span style='background:yellow'>**Question 4 (5 pt).**</span> Suppose you have 4 apples, 3 oranges, and 3 pineapples.  (Perhaps you're using Python to solve a high school Algebra problem.)  Create a table that contains this information.  It should have two columns: `fruit name` and `count`.  Assign the new table to the variable `fruits`.\n",
        "\n",
        "**Note:** Use lower-case and singular words for the name of each fruit, like `\"apple\"`."
      ]
    },
    {
      "cell_type": "code",
      "execution_count": 8,
      "metadata": {
        "colab": {
          "base_uri": "https://localhost:8080/"
        },
        "id": "ii7-YSDZpSzH",
        "outputId": "c0fa99bd-bf11-4462-85c5-059232f33fc6"
      },
      "outputs": [
        {
          "output_type": "stream",
          "name": "stdout",
          "text": [
            "╒══════════════╤═════════╕\n",
            "│ fruit Name   │   count │\n",
            "╞══════════════╪═════════╡\n",
            "│ apple        │       4 │\n",
            "├──────────────┼─────────┤\n",
            "│ orange       │       3 │\n",
            "├──────────────┼─────────┤\n",
            "│ pineapple    │       3 │\n",
            "╘══════════════╧═════════╛\n"
          ]
        }
      ],
      "source": [
        "#### You code here\n",
        "#import necessary library\n",
        "import numpy as np\n",
        "# we need to create a table in the output, so imported tabulate library \n",
        "from tabulate import tabulate\n",
        "# numpy array is created\n",
        "arr = np.array([['apple', 4],['orange', 3], ['pineapple', 3]])\n",
        "col_names = [\"fruit Name\", \"count\"]\n",
        "# displaying the table \n",
        "fruits = tabulate(arr, col_names, tablefmt=\"fancy_grid\") \n",
        "print(fruits)\n"
      ]
    },
    {
      "cell_type": "markdown",
      "metadata": {
        "id": "iVpc8G5dpSzI"
      },
      "source": [
        "<span style='background:yellow'>**Question 5 (10 pt).**</span> Below we load a table containing 200,000 weekday Uber rides in the Boston, Massachusetts metropolitan area from the [Uber Movement](https://movement.uber.com) project. The `sourceid` and `dstid` columns contain codes corresponding to start and end locations of each ride. The `hod` column contains codes corresponding to the hour of the day the ride took place. The `ride time` column contains the length of the ride, in minutes. Produce a histogram of all ride times in Boston using the given bins. Download the data from here: https://github.com/unt-iialab/info5502-spring2022/blob/main/datasets/boston.csv"
      ]
    },
    {
      "cell_type": "code",
      "source": [
        "#mounted google drive to colab\n",
        "from google.colab import drive\n",
        "drive.mount('/content/drive')"
      ],
      "metadata": {
        "id": "0uYQIGRY5dT9"
      },
      "execution_count": null,
      "outputs": []
    },
    {
      "cell_type": "code",
      "source": [
        "#read csv file given \n",
        "boston_data = Table.read_table(\"/content/drive/MyDrive/boston.csv\")"
      ],
      "metadata": {
        "id": "5YKs8cVt5hR4"
      },
      "execution_count": 9,
      "outputs": []
    },
    {
      "cell_type": "code",
      "source": [
        "#import necessary libraries\n",
        "from datascience import *\n",
        "import numpy as np\n",
        "import matplotlib.pyplot as plots\n",
        "plots.style.use('fivethirtyeight')\n",
        "get_ipython().run_line_magic('matplotlib', 'inline')"
      ],
      "metadata": {
        "id": "MvVVqWB66z9u"
      },
      "execution_count": 10,
      "outputs": []
    },
    {
      "cell_type": "code",
      "source": [
        "bins = np.arange(0, 80, 5)\n",
        "#visualization of hist plot for given 'ride_time' column in the data\n",
        "boston_data.hist(\"ride time\", bins=bins, unit=\"Minutes\")"
      ],
      "metadata": {
        "colab": {
          "base_uri": "https://localhost:8080/",
          "height": 281
        },
        "id": "WWrGhW_s6_KY",
        "outputId": "44b5653f-2790-4f53-c16b-0a9a439bd777"
      },
      "execution_count": 11,
      "outputs": [
        {
          "output_type": "display_data",
          "data": {
            "image/png": "[encoded data removed]",
            "text/plain": [
              "<Figure size 432x288 with 1 Axes>"
            ]
          },
          "metadata": {
            "needs_background": "light"
          }
        }
      ]
    },
    {
      "cell_type": "markdown",
      "metadata": {
        "id": "MLkPBG4YpSzK"
      },
      "source": [
        "<span style='background:yellow'>**Question 6 (20 pt).**</span> Below is a dataset we collected from this website: https://ddr.densho.org/narrators/?page=1. Narrators are the interview subjects of oral histories contained in the Densho Digital Repository. The interviewees, or narrators, share their life histories to preserve history, educate the public, and promote tolerance. We urge our users to approach these materials in the same spirit. You are required to conduct the exploratory data analysis on the location, year of born, generation, and gender. Please select the best visualiztions to present your results. Download the data from here: https://github.com/unt-iialab/info5502-spring2022/blob/main/datasets/Combined-data.xlsx"
      ]
    },
    {
      "cell_type": "code",
      "source": [
        "#### You code here\n",
        "import pandas as pd\n",
        "import matplotlib.pyplot as plot\n",
        "import seaborn as sns"
      ],
      "metadata": {
        "id": "D-4olai-DgTC"
      },
      "execution_count": 18,
      "outputs": []
    },
    {
      "cell_type": "code",
      "source": [
        "#read the given input excel file\n",
        "combined_data = pd.read_excel(r\"/content/drive/MyDrive/Combined-data.xlsx\")\n",
        "combined_data"
      ],
      "metadata": {
        "id": "9JCnD_7TF7pe"
      },
      "execution_count": null,
      "outputs": []
    },
    {
      "cell_type": "code",
      "source": [
        "# many columns have null values, so one of the step of exploratory data analysis is to perform data cleaning \n",
        "# remove the rows that have null values in all the columns.\n",
        "# remove the rows that have null values in the column'Year'.\n",
        "combined_data = combined_data[pd.notnull(combined_data['Year'])]\n",
        "# type casting the data type of Year column to integer\n",
        "combined_data['Year'] = combined_data['Year'].astype('int64').astype('str')\n",
        "plot.rcParams['figure.figsize'] = [30, 15]\n",
        "ax = sns.countplot(x='Year', data=combined_data)\n",
        "plot.xlabel(\"year\")\n",
        "plot.ylabel(\"Count\")\n",
        "plot.xticks(rotation=90)\n",
        "plot.show()"
      ],
      "metadata": {
        "colab": {
          "base_uri": "https://localhost:8080/",
          "height": 445
        },
        "id": "TX81-YdyGUbI",
        "outputId": "0b9105b3-7a26-40ca-9825-5b5ade21f637"
      },
      "execution_count": 27,
      "outputs": [
        {
          "output_type": "display_data",
          "data": {
            "image/png": "[encoded data removed]",
            "text/plain": [
              "<Figure size 2160x1080 with 1 Axes>"
            ]
          },
          "metadata": {
            "needs_background": "light"
          }
        }
      ]
    },
    {
      "cell_type": "code",
      "source": [
        "\n",
        "#  remove the rows that have null values in the column 'Location'\n",
        "\n",
        "combined_data = combined_data[pd.notnull(combined_data['Location'])]\n",
        "plot.rcParams['figure.figsize'] = [30, 15]\n",
        "ax = sns.countplot(x='Location', data=combined_data)\n",
        "plot.xlabel(\"Location\")\n",
        "plot.ylabel(\"Count\")\n",
        "plot.xticks(rotation=90)\n",
        "plot.show()"
      ],
      "metadata": {
        "colab": {
          "base_uri": "https://localhost:8080/",
          "height": 946
        },
        "id": "X9BSHO2YGtC2",
        "outputId": "757186f0-9d12-4ad4-8cb1-f6d342820323"
      },
      "execution_count": 29,
      "outputs": [
        {
          "output_type": "display_data",
          "data": {
            "image/png": "[encoded data removed]",
            "text/plain": [
              "<Figure size 2160x1080 with 1 Axes>"
            ]
          },
          "metadata": {
            "needs_background": "light"
          }
        }
      ]
    },
    {
      "cell_type": "code",
      "source": [
        "#  remove the rows that have null values in the column 'Gender'\n",
        "\n",
        "combined_data = combined_data[pd.notnull(combined_data['Gender'])]\n",
        "plot.rcParams['figure.figsize'] = [5, 5]\n",
        "ax = sns.countplot(x='Gender', data=combined_data)\n",
        "plot.xlabel(\"Gender\")\n",
        "plot.ylabel(\"Count\")\n",
        "plot.xticks(rotation=90)\n",
        "plot.show()"
      ],
      "metadata": {
        "colab": {
          "base_uri": "https://localhost:8080/",
          "height": 358
        },
        "id": "NFBvN5ReIUno",
        "outputId": "c9caaf32-7693-47f5-d646-b8a5b065fef0"
      },
      "execution_count": 30,
      "outputs": [
        {
          "output_type": "display_data",
          "data": {
            "image/png": "[encoded data removed]",
            "text/plain": [
              "<Figure size 360x360 with 1 Axes>"
            ]
          },
          "metadata": {
            "needs_background": "light"
          }
        }
      ]
    },
    {
      "cell_type": "code",
      "source": [
        "#  remove the rows that have null values in the column Generation \n",
        "combined_data = combined_data[pd.notnull(combined_data['Generation'])]\n",
        "plot.rcParams['figure.figsize'] = [20, 15]\n",
        "ax = sns.countplot(x='Generation', data=combined_data)\n",
        "plot.xlabel(\"Generation\")\n",
        "plot.ylabel(\"Count\")\n",
        "plot.xticks(rotation=90)\n",
        "plot.show()"
      ],
      "metadata": {
        "colab": {
          "base_uri": "https://localhost:8080/",
          "height": 665
        },
        "id": "hcniYg_VII7z",
        "outputId": "8ad33f99-f255-4593-fd20-1ecd3c5dcef2"
      },
      "execution_count": 28,
      "outputs": [
        {
          "output_type": "display_data",
          "data": {
            "image/png": "[encoded data removed]",
            "text/plain": [
              "<Figure size 1440x1080 with 1 Axes>"
            ]
          },
          "metadata": {
            "needs_background": "light"
          }
        }
      ]
    },
    {
      "cell_type": "markdown",
      "metadata": {
        "id": "ZvSFGk0ypSzM"
      },
      "source": [
        "<span style='background:yellow'>**Question 7.**</span> **Monkeys Typing Shakespeare** A monkey is banging repeatedly on the keys of a typewriter. Each time, the monkey is equally likely to hit any of the 26 lowercase letters of the English alphabet, 26 uppercase letters of the English alphabet, and any number between 0-9 (inclusive), regardless of what it has hit before. There are no other keys on the keyboard.  \n",
        "\n",
        "This question is inspired by a mathematical theorem called the Infinite monkey theorem (<https://en.wikipedia.org/wiki/Infinite_monkey_theorem>), which postulates that if you put a monkey in the situation described above for an infinite time, they will eventually type out all of Shakespeare’s works."
      ]
    },
    {
      "cell_type": "markdown",
      "metadata": {
        "id": "H9FqDLkXpSzN"
      },
      "source": [
        "<span style='background:yellow'>**Question 7-1 (10 pt).**</span> Suppose the monkey hits the keyboard 5 times.  Compute the chance that the monkey types the sequence `Data8`.  (Call this `data_chance`.) Use algebra and type in an arithmetic equation that Python can evalute."
      ]
    },
    {
      "cell_type": "code",
      "execution_count": 16,
      "metadata": {
        "colab": {
          "base_uri": "https://localhost:8080/"
        },
        "id": "baI4t9MypSzN",
        "outputId": "1935513c-122a-4cfd-a61c-222a03cbd65e"
      },
      "outputs": [
        {
          "output_type": "execute_result",
          "data": {
            "text/plain": [
              "0.08064516129032258"
            ]
          },
          "metadata": {},
          "execution_count": 16
        }
      ],
      "source": [
        "#### You code here\n",
        "#In five chances monkey can hit any of the keys\n",
        "data_chance=(1/(26+26+10))*5\n",
        "data_chance"
      ]
    },
    {
      "cell_type": "markdown",
      "metadata": {
        "id": "BemYc3HxpSzO"
      },
      "source": [
        "<span style='background:yellow'>**Question 7-2 (10 pt).**</span> Write a function called `simulate_key_strike`.  It should take **no arguments**, and it should return a random one-character string that is equally likely to be any of the 26 lower-case English letters, 26 upper-case English letters, or any number between 0-9 (inclusive). "
      ]
    },
    {
      "cell_type": "code",
      "execution_count": 4,
      "metadata": {
        "colab": {
          "base_uri": "https://localhost:8080/",
          "height": 35
        },
        "id": "Ke_n7YC_pSzO",
        "outputId": "d6414b8b-37f5-4c70-eb9b-b9d53db4242b"
      },
      "outputs": [
        {
          "output_type": "execute_result",
          "data": {
            "application/vnd.google.colaboratory.intrinsic+json": {
              "type": "string"
            },
            "text/plain": [
              "'x'"
            ]
          },
          "metadata": {},
          "execution_count": 4
        }
      ],
      "source": [
        "#### You code here\n",
        "#imported string library for alphabets\n",
        "import string\n",
        "# consider a string that has all upper case , lower case and also numeric digits\n",
        "val = list(string.ascii_lowercase+string.ascii_uppercase+string.digits)\n",
        "#function created to select random character\n",
        "def stimulate_key_strike():\n",
        "  return np.random.choice(val)\n",
        "stimulate_key_strike()"
      ]
    },
    {
      "cell_type": "markdown",
      "metadata": {
        "id": "L85sQ3vOpSzO"
      },
      "source": [
        "<span style='background:yellow'>**Question 7-3 (10 pt).**</span> Write a function called `simulate_several_key_strikes`.  It should take one argument: an integer specifying the number of key strikes to simulate. It should return a string containing that many characters, each one obtained from simulating a key strike by the monkey.\n",
        "\n",
        "*Hint:* If you make a list or array of the simulated key strikes called `key_strikes_array`, you can convert that to a string by calling `\"\".join(key_strikes_array)`"
      ]
    },
    {
      "cell_type": "code",
      "execution_count": 85,
      "metadata": {
        "colab": {
          "base_uri": "https://localhost:8080/",
          "height": 35
        },
        "id": "970BRBW3pSzP",
        "outputId": "4929e869-522d-423a-a8c9-87291303cb6f"
      },
      "outputs": [
        {
          "output_type": "execute_result",
          "data": {
            "application/vnd.google.colaboratory.intrinsic+json": {
              "type": "string"
            },
            "text/plain": [
              "'L A V 2 S 5 6 2 n K G G 4 0 A T c 3 V q W p'"
            ]
          },
          "metadata": {},
          "execution_count": 85
        }
      ],
      "source": [
        "#### You code here\n",
        "#creating function mentioned with one argument \n",
        "def stimulate_several_key_strikes(num):\n",
        "  return(\" \".join(np.random.choice(val) for i in range(num)))\n",
        "# calling the function to generate the output\n",
        "stimulate_several_key_strikes(22)\n",
        "\n"
      ]
    }
  ],
  "metadata": {
    "kernelspec": {
      "display_name": "Python 3",
      "language": "python",
      "name": "python3"
    },
    "language_info": {
      "codemirror_mode": {
        "name": "ipython",
        "version": 3
      },
      "file_extension": ".py",
      "mimetype": "text/x-python",
      "name": "python",
      "nbconvert_exporter": "python",
      "pygments_lexer": "ipython3",
      "version": "3.8.5"
    },
    "colab": {
      "name": "INFO 5502-Mid-term Exam-Spring2022.ipynb",
      "provenance": [],
      "include_colab_link": true
    }
  },
  "nbformat": 4,
  "nbformat_minor": 0
}
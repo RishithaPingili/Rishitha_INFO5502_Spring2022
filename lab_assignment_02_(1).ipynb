{
  "cells": [
    {
      "cell_type": "markdown",
      "metadata": {
        "id": "view-in-github",
        "colab_type": "text"
      },
      "source": [
        "<a href=\"https://colab.research.google.com/github/RishithaPingili/Rishitha_INFO5502_Spring2022/blob/main/lab_assignment_02_(1).ipynb\" target=\"_parent\"><img src=\"https://colab.research.google.com/assets/colab-badge.svg\" alt=\"Open In Colab\"/></a>"
      ]
    },
    {
      "cell_type": "markdown",
      "metadata": {
        "id": "Ryk8D1Q4Wsrp"
      },
      "source": [
        "# **The second Lab-assignment (02/04/2022, 50 points in total)**"
      ]
    },
    {
      "cell_type": "markdown",
      "metadata": {
        "id": "90_NR8c5XGWc"
      },
      "source": [
        "# Question 1\n",
        "\n",
        "(5 points). Write a Python program to generate 12 random numbers between 1 and 100. Sort the list of numbers in ascending order and print it out. Sort the list of numbers in descending order and print it out. Calculate the average for the group and print it out."
      ]
    },
    {
      "cell_type": "code",
      "execution_count": null,
      "metadata": {
        "id": "5QX6bJjGWXY9"
      },
      "outputs": [],
      "source": [
        "# Your code here\n",
        "import random\n",
        "def Rndm(start, end, num):\n",
        "  result_list=[]\n",
        "  for i in range(num):\n",
        "    result_list.append(random.randint(start,end))\n",
        "  return result_list\n",
        "list1=[]\n",
        "list1=Rndm(1, 100, 12)\n",
        "print(\"List of random numbers are : \"+str(list1))\n",
        "list1.sort()\n",
        "print(\"The ascending order is : \"+str(list1))\n",
        "list1.sort(reverse=True)\n",
        "print(\"The descending order is : \"+str(list1))\n",
        "Avg1= sum(list1)/len(list1)\n",
        "print(\"The average is : \"+str(Avg1))\n",
        "\n",
        "\n",
        "\n",
        "\n",
        "\n",
        "\n",
        "\n",
        "\n",
        "\n"
      ]
    },
    {
      "cell_type": "markdown",
      "metadata": {
        "id": "1F_PZdH9Sh49"
      },
      "source": [
        "# Question 2\n",
        "(20 points). Write a program that will do the following string formatting tasks:\n",
        "\n",
        "(1) Ask the user to enter two sentences.\n",
        "\n",
        "(2) Make each sentence into a list. Each element in the list should correspond to a word in the sentence. For example, if the sentence is \"Alas! Am I alive? This is my first python program\", the program should print out ['Alas, '!', 'Am', 'I', 'alive, '?', 'This', 'is', 'my', 'first', 'python', 'program'].\n",
        "\n",
        "(3) Compare the two sentences. Print out a list of words that occur in both sentences.\n",
        "\n",
        "(4) Remove any punctuation from the sentence and print it back out. It should remove at least the following characters, but it can remove more: period(“.”), comma (“,”), semicolon (“;”), and colon (“:”)\n",
        "\n",
        "(5) Count the number of vowels in the sentences. Print out each vowel and the number of times it appears in the sentences, such as: a:2, e:1, i:0, etc"
      ]
    },
    {
      "cell_type": "code",
      "execution_count": null,
      "metadata": {
        "id": "Y0oOSlsOS0cq"
      },
      "outputs": [],
      "source": [
        "# Your code here\n",
        "import re\n",
        "\n",
        "#question 1:\n",
        "sentence1 =input(\"Enter the first sentence : \")\n",
        "list1=[sentence1]\n",
        "sentence2=input(\"Enter the second sentence : \")\n",
        "list2=[sentence2]\n",
        "def split_fn(lst):\n",
        "  return (lst[0].split())"
      ]
    },
    {
      "cell_type": "code",
      "source": [
        "#question 2:\n",
        "x=split_fn(list1)\n",
        "y=split_fn(list2)\n",
        "out_s1=[c.strip() for c in re.split('(\\W+)', sentence1) if c.strip() != '' ]\n",
        "out_s2=[c.strip() for c in re.split('(\\W+)', sentence2) if c.strip() != '' ]\n",
        "print(out_s1)\n",
        "print(out_s2)"
      ],
      "metadata": {
        "id": "wiSXkLlcqKlK"
      },
      "execution_count": null,
      "outputs": []
    },
    {
      "cell_type": "code",
      "source": [
        "#question 3:\n",
        "# if the comparision to be case insensitive:\n",
        "def lower_case(lst):\n",
        "  out_l1=[]\n",
        "  for i in lst:\n",
        "    out_l1.append(i.lower())\n",
        "  return out_l1\n",
        "ot_1=lower_case(out_s1)\n",
        "ot_2=lower_case(out_s2)\n",
        "set1=set(ot_1)\n",
        "set2=set(ot_2)\n",
        "if(set1&set2):\n",
        "  print(\"The common words in both sentences if case insensitive are:\" +str(set1&set2))\n",
        "else:\n",
        "  print(\"no common words if case insensitive\")\n",
        "# for comparision to be case sensitive then:\n",
        "set_1=set(out_s1)\n",
        "set_2=set(out_s2)\n",
        "if(set_1&set_2):\n",
        "   print(\"The common words in both sentences if case sensitive are:\" +str(set_1&set_2))\n",
        "else:\n",
        "  print(\"no common words if case sensitive \")"
      ],
      "metadata": {
        "id": "rPdgg1aZqLof"
      },
      "execution_count": null,
      "outputs": []
    },
    {
      "cell_type": "code",
      "source": [
        "#question 4:\n",
        "def Punctuation(sentence):\n",
        "    punctuations = '''!.,;:'\"\\/?@#$%^&*_'''\n",
        "    for i in sentence.lower():\n",
        "        if i in punctuations:\n",
        "            sentence = sentence.replace(i, \"\")\n",
        "    print(sentence)\n",
        "Punctuation(sentence1)\n",
        "Punctuation(sentence2)"
      ],
      "metadata": {
        "id": "RxCxg0BeqL13"
      },
      "execution_count": null,
      "outputs": []
    },
    {
      "cell_type": "code",
      "source": [
        "#question 5:\n",
        "vowels='aeiou'\n",
        "num_vowels_1={}.fromkeys(vowels,0)\n",
        "for char in sentence1:\n",
        "  if char in num_vowels_1:\n",
        "    num_vowels_1[char]+=1\n",
        "print(\"count of vowels in first sentence: \"+str(num_vowels_1))\n",
        "num_vowels_2={}.fromkeys(vowels,0)\n",
        "for char in sentence2:\n",
        "  if char in num_vowels_2:\n",
        "    num_vowels_2[char]+=1\n",
        "print(\"count of vowels in second sentence: \"+str(num_vowels_2))"
      ],
      "metadata": {
        "id": "_-NT0W6pqMCL"
      },
      "execution_count": null,
      "outputs": []
    },
    {
      "cell_type": "markdown",
      "metadata": {
        "id": "CmFoI4jDS9nx"
      },
      "source": [
        "# Question 3\n",
        "\n",
        "> Indented block\n",
        "\n",
        "\n",
        "\n",
        "(5 points). The formula that describes the volume V of a sphere with radius r is the following:\n",
        "\n",
        "$ V=\\frac{4}{3}\\ast\\ \\pi\\ast\\ r^3 $\n",
        "\n",
        "Write a program to calculate the value of V when r is in the range of 1–10. Output the result in the following format:\n",
        "\n",
        "\tr\tV\n",
        "\t1\t…\n",
        "\t2\t…\n",
        "\t3\t…\n"
      ]
    },
    {
      "cell_type": "code",
      "execution_count": null,
      "metadata": {
        "id": "pEyqeioAT95b"
      },
      "outputs": [],
      "source": [
        "# Your code here\n",
        "print(\"r    V\")\n",
        "for r in range(1,11):\n",
        "  v=(4/3)*(22/7)*(r)*(r)*(r) \n",
        "  print('\\n')\n",
        "  print(str(r)+\"    \"+str(v))\n",
        "\n",
        "\n"
      ]
    },
    {
      "cell_type": "markdown",
      "metadata": {
        "id": "z3tBE7E-Xn5X"
      },
      "source": [
        "# Question 4\n",
        "\n",
        "(20 points). In the field of Data Science, data is often formatted as a comma-delimited (CSV) file, where each line in a file corresponds to a field's value. Refer to Chapter 9 (p. 106) for more information on comma-delimited files. To answer this question, you will need to download the file [lab_assignment_02_denton_housing.csv](https://raw.githubusercontent.com/unt-iialab/info5502-spring2022/main/datasets/lab_assignment_02_denton_housing.csv) included with this assignment. The file [lab_assignment_02_denton_housing.csv](https://raw.githubusercontent.com/unt-iialab/info5502-spring2022/main/datasets/lab_assignment_02_denton_housing.csv) contains statistics about housing in the city of Denton from 2008 to 2014. Write a program to implement the following questions.\n",
        "\n",
        "(1) (10 pts) Calculate the difference in the number of Occupied Housing Units from year to year and print it. The difference must be calculated for the consecutive years such as 2008-2009, 2009-2010 etc. Finally, print the values in the ascending order.\n",
        "\n",
        "(2) (10 pts) For all the years, calculate the percentage of housing units which are vacant an occupied. Print the results in the following format:\n",
        "\n",
        "Year Vacant Housing Units Occupied Housing Units\n",
        "\n",
        "    2008  30%   70%                          \n",
        "\t2009 ----- -----\n",
        "\t2010 ----- -----\n",
        "    2011 ----- -----\n",
        "\t2012 ----- -----\n",
        "    2013 ----- -----\n",
        "\t2014 ----- -----\n",
        "  \n",
        "  \n",
        "\n",
        "(3) (10 pts) Calculate and print the valued and years in which the highest number of housing units were vacant and occupied. Print the results in the following format:  \n",
        "\n",
        "                              Year\tValue\n",
        "\tVacant Housing Units\t  -----   -----\n",
        "\tOccupied Housing Units\t-----   -----\n",
        "\n",
        "(4) (10 pts) Calculate the harmonic mean of the total housing units and print it out. You can find the information about harmonic mean here: https://ncalculators.com/statistics/harmonic-mean-calculator.htm"
      ]
    },
    {
      "cell_type": "code",
      "execution_count": null,
      "metadata": {
        "id": "lqGYuHBhcsRH"
      },
      "outputs": [],
      "source": [
        "import pandas as pd\n",
        "import numpy as np\n",
        "\n",
        "housing = pd.read_csv(\"/lab_assignment_02_denton_housing (1).csv\" )\n",
        "housing "
      ]
    },
    {
      "cell_type": "code",
      "source": [
        "#question 1: \n",
        "x = housing.loc[(housing[\"title_field\"]==\"Occupied Housing Units\") , [\"year\",\"title_field\", 'value']]\n",
        "x\n",
        "dataset1 = [['2008-2009', 36711-35916],['2009-2010', 41007-35916],['2010-2011', 41007-40704],['2011-2012', 42108-40704],['2012-2013', 43673-42108],['2013-2014', 46295-43673]]  \n",
        "difference_list1= pd.DataFrame(dataset1,columns=[\"Years\",\"Difference_in_value\"])\n",
        "sorted_difference_list=difference_list1.sort_values(\"Difference_in_value\")\n",
        "sorted_difference_list"
      ],
      "metadata": {
        "id": "SJu4omhBV1Dm"
      },
      "execution_count": null,
      "outputs": []
    },
    {
      "cell_type": "code",
      "source": [
        "#question 2:\n",
        "rslt_set = pd.DataFrame(columns = ['Year', 'Vacant Housing Units', 'Occupied Housing Units'])\n",
        "for yr in range(2008, 2015):\n",
        "  out_2 = {}\n",
        "  out_2['Year'] = yr\n",
        "  out_2['Vacant Housing Units'] = round((housing[(housing['year'] == yr)]['value'].values[1]) / (housing[(housing['year'] == yr)]['value'].values[0])*100, 2)\n",
        "  out_2['Occupied Housing Units'] = round((housing[(housing['year'] == yr)]['value'].values[2]) / (housing[(housing['year'] == yr)]['value'].values[0])*100, 2) \n",
        "  rslt_set = rslt_set.append(out_2, ignore_index=True)\n",
        "\n",
        "rslt_set['Year'] = rslt_set['Year'].astype('int64')\n",
        "print(rslt_set.to_string(index=False))\n"
      ],
      "metadata": {
        "id": "9pbUyBevY4xQ"
      },
      "execution_count": null,
      "outputs": []
    },
    {
      "cell_type": "code",
      "source": [
        "#question 3:\n",
        "result_set = pd.DataFrame(columns=['unit_type','Year', 'Value'])\n",
        "for unit_type in [\"Vacant Housing Units\", \"Occupied Housing Units\"]:\n",
        "  out_3 = {}\n",
        "  out_3['unit_type']= unit_type\n",
        "  out_3['Value'] = housing[housing['title_field'] == unit_type].max()[2]\n",
        "  out_3['Year'] = housing[(housing['title_field'] == unit_type) & (housing['value'] == out_3['Value'])]['year'].values[0]\n",
        "\n",
        "  result_set = result_set.append(out_3, ignore_index=True)\n",
        "\n",
        "print(result_set.set_index('unit_type'))"
      ],
      "metadata": {
        "id": "s4cErYpig1rd"
      },
      "execution_count": null,
      "outputs": []
    },
    {
      "cell_type": "code",
      "source": [
        "#question 4\n",
        "import statistics\n",
        "print(\"Harmonic means of total housing units is \",statistics.harmonic_mean(housing[housing['title_field'] == 'Total Housing Units']['value']))"
      ],
      "metadata": {
        "colab": {
          "base_uri": "https://localhost:8080/"
        },
        "id": "46ijorB8g4Uh",
        "outputId": "e341cf33-a778-477e-ec00-e6f684622242"
      },
      "execution_count": 95,
      "outputs": [
        {
          "output_type": "stream",
          "name": "stdout",
          "text": [
            "Harmonic means of total housing units is  44398.28543969185\n"
          ]
        }
      ]
    }
  ],
  "metadata": {
    "colab": {
      "collapsed_sections": [],
      "name": "lab_assignment_02 (1).ipynb",
      "provenance": [],
      "include_colab_link": true
    },
    "kernelspec": {
      "display_name": "Python 3",
      "language": "python",
      "name": "python3"
    },
    "language_info": {
      "codemirror_mode": {
        "name": "ipython",
        "version": 3
      },
      "file_extension": ".py",
      "mimetype": "text/x-python",
      "name": "python",
      "nbconvert_exporter": "python",
      "pygments_lexer": "ipython3",
      "version": "3.8.5"
    }
  },
  "nbformat": 4,
  "nbformat_minor": 0
}
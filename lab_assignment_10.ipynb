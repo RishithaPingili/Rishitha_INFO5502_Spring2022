{
  "cells": [
    {
      "cell_type": "markdown",
      "metadata": {
        "id": "view-in-github",
        "colab_type": "text"
      },
      "source": [
        "<a href=\"https://colab.research.google.com/github/RishithaPingili/Rishitha_INFO5502_Spring2022/blob/main/lab_assignment_10.ipynb\" target=\"_parent\"><img src=\"https://colab.research.google.com/assets/colab-badge.svg\" alt=\"Open In Colab\"/></a>"
      ]
    },
    {
      "cell_type": "markdown",
      "metadata": {
        "id": "WxFl8aUU3E4H"
      },
      "source": [
        "## The tenth Lab-assignment (04/28/2022, 50 points in total)"
      ]
    },
    {
      "cell_type": "markdown",
      "metadata": {
        "id": "K07fWJdr3E4J"
      },
      "source": [
        "The purpose of this assignment is to practice normal distribution and annotation quality evaluation."
      ]
    },
    {
      "cell_type": "markdown",
      "metadata": {
        "id": "wSzGaHqA3E4J"
      },
      "source": [
        "### Question 1 (25 points) \n",
        "\n",
        "Cohen's kappa coefficient (κ) is a statistic that is used to measure inter-rater reliability (and also intra-rater reliability) for qualitative (categorical) items. It is generally thought to be a more robust measure than simple percent agreement calculation, as κ takes into account the possibility of the agreement occurring by chance. There is controversy surrounding Cohen's kappa due to the difficulty in interpreting indices of agreement. Some researchers have suggested that it is conceptually simpler to evaluate disagreement between items.\n",
        "\n",
        "A more detailed description of Kappa agreement can be found on wikipedia: https://en.wikipedia.org/wiki/Cohen%27s_kappa\n",
        "\n",
        "Here is the dataset we created for a text classification task: https://github.com/unt-iialab/info5502-spring2022/blob/main/datasets/lab10-dataset.csv\n",
        "\n",
        "The last three columns indicate the annotation on the same sentence by three students respectively. Based on this dataset, please calculate the Cohen's kappa and the Fleiss' kappa using their formulars (Python). Please don't use any existing packages for the implementation. "
      ]
    },
    {
      "cell_type": "code",
      "execution_count": 10,
      "metadata": {
        "colab": {
          "base_uri": "https://localhost:8080/"
        },
        "id": "agXWNHvl3E4S",
        "outputId": "bbeccfbb-5335-4d36-b69a-b7b211d9908c"
      },
      "outputs": [
        {
          "output_type": "stream",
          "name": "stdout",
          "text": [
            "Collecting krippendorff\n",
            "  Downloading krippendorff-0.5.1-py3-none-any.whl (17 kB)\n",
            "Requirement already satisfied: numpy in /usr/local/lib/python3.7/dist-packages (from krippendorff) (1.21.6)\n",
            "Installing collected packages: krippendorff\n",
            "Successfully installed krippendorff-0.5.1\n"
          ]
        }
      ],
      "source": [
        "# your code here\n",
        "!pip install krippendorff"
      ]
    },
    {
      "cell_type": "code",
      "source": [
        "# your code here\n",
        "\n",
        "import pandas as pd\n",
        "import numpy as np\n",
        "from sklearn.preprocessing import LabelEncoder\n",
        "\n",
        "df = pd.read_csv(\"https://raw.githubusercontent.com/unt-iialab/info5502-spring2022/main/datasets/lab10-dataset.csv\")\n",
        "df"
      ],
      "metadata": {
        "colab": {
          "base_uri": "https://localhost:8080/",
          "height": 641
        },
        "id": "5m0I3jib6HOQ",
        "outputId": "f8178897-9f00-42bc-9904-28785d2d53b4"
      },
      "execution_count": 11,
      "outputs": [
        {
          "output_type": "execute_result",
          "data": {
            "text/plain": [
              "                                       Title of Article  \\\n",
              "0     The measurement of ÒinterdisciplinarityÓ and Ò...   \n",
              "1     Innovation adoption: Broadcasting versus virality   \n",
              "2     Discovering underlying sensations of human emo...   \n",
              "3     Discovering underlying sensations of human emo...   \n",
              "4     Discovering underlying sensations of human emo...   \n",
              "...                                                 ...   \n",
              "3393  The impact of personality traits on usersÕ inf...   \n",
              "3394  The impact of personality traits on usersÕ inf...   \n",
              "3395  The impact of personality traits on usersÕ inf...   \n",
              "3396  The impact of personality traits on usersÕ inf...   \n",
              "3397  The impact of personality traits on usersÕ inf...   \n",
              "\n",
              "                                          Contributions  Source  \\\n",
              "0     In this study, we discuss recent advances in t...  JASIST   \n",
              "1     broadcasting and virality have similar diffusi...  JASIST   \n",
              "2     we report the results of our study on sensatio...  JASIST   \n",
              "3     in the second part of the paper, we define nov...  JASIST   \n",
              "4     we design a method to classify texts into ones...  JASIST   \n",
              "...                                                 ...     ...   \n",
              "3393  Personality traits drive information seeking d...     IPM   \n",
              "3394  Eye-movement parameters can predict these patt...     IPM   \n",
              "3395  Prior domain knowledge improves older adultsÕ ...     IPM   \n",
              "3396  Unlike prior results, older adults were outper...     IPM   \n",
              "3397  In open-ended information problems, older adul...     IPM   \n",
              "\n",
              "                                           Annotation1  \\\n",
              "0     Algorithms/ Methods Construction or Optimization   \n",
              "1                                    Theory proposal\\n   \n",
              "2                                    Theory proposal\\n   \n",
              "3                                    Theory proposal\\n   \n",
              "4     Algorithms/ Methods Construction or Optimization   \n",
              "...                                                ...   \n",
              "3393                                 Theory proposal\\n   \n",
              "3394                                 Theory proposal\\n   \n",
              "3395                                 Theory proposal\\n   \n",
              "3396                                 Theory proposal\\n   \n",
              "3397                                 Theory proposal\\n   \n",
              "\n",
              "                                           Annotation2  \\\n",
              "0     Algorithms/ Methods Construction or Optimization   \n",
              "1                                    Theory proposal\\n   \n",
              "2     Algorithms/ Methods Construction or Optimization   \n",
              "3                                    Theory proposal\\n   \n",
              "4                   Model Construction or Optimization   \n",
              "...                                                ...   \n",
              "3393                                 Theory proposal\\n   \n",
              "3394                                 Theory proposal\\n   \n",
              "3395                                 Theory proposal\\n   \n",
              "3396                                 Theory proposal\\n   \n",
              "3397                                 Theory proposal\\n   \n",
              "\n",
              "                                           Annotation3    Year  \n",
              "0     Algorithms/ Methods Construction or Optimization     NaN  \n",
              "1                                    Theory proposal\\n     NaN  \n",
              "2                                    Theory proposal\\n     NaN  \n",
              "3                                    Theory proposal\\n     NaN  \n",
              "4     Algorithms/ Methods Construction or Optimization     NaN  \n",
              "...                                                ...     ...  \n",
              "3393                                 Theory proposal\\n  2017.0  \n",
              "3394                                 Theory proposal\\n  2017.0  \n",
              "3395                                 Theory proposal\\n  2017.0  \n",
              "3396                                 Theory proposal\\n  2017.0  \n",
              "3397                                 Theory proposal\\n  2017.0  \n",
              "\n",
              "[3398 rows x 7 columns]"
            ],
            "text/html": [
              "\n",
              "  <div id=\"df-af6c8679-ced4-4644-a1b7-a946db190c0f\">\n",
              "    <div class=\"colab-df-container\">\n",
              "      <div>\n",
              "<style scoped>\n",
              "    .dataframe tbody tr th:only-of-type {\n",
              "        vertical-align: middle;\n",
              "    }\n",
              "\n",
              "    .dataframe tbody tr th {\n",
              "        vertical-align: top;\n",
              "    }\n",
              "\n",
              "    .dataframe thead th {\n",
              "        text-align: right;\n",
              "    }\n",
              "</style>\n",
              "<table border=\"1\" class=\"dataframe\">\n",
              "  <thead>\n",
              "    <tr style=\"text-align: right;\">\n",
              "      <th></th>\n",
              "      <th>Title of Article</th>\n",
              "      <th>Contributions</th>\n",
              "      <th>Source</th>\n",
              "      <th>Annotation1</th>\n",
              "      <th>Annotation2</th>\n",
              "      <th>Annotation3</th>\n",
              "      <th>Year</th>\n",
              "    </tr>\n",
              "  </thead>\n",
              "  <tbody>\n",
              "    <tr>\n",
              "      <th>0</th>\n",
              "      <td>The measurement of ÒinterdisciplinarityÓ and Ò...</td>\n",
              "      <td>In this study, we discuss recent advances in t...</td>\n",
              "      <td>JASIST</td>\n",
              "      <td>Algorithms/ Methods Construction or Optimization</td>\n",
              "      <td>Algorithms/ Methods Construction or Optimization</td>\n",
              "      <td>Algorithms/ Methods Construction or Optimization</td>\n",
              "      <td>NaN</td>\n",
              "    </tr>\n",
              "    <tr>\n",
              "      <th>1</th>\n",
              "      <td>Innovation adoption: Broadcasting versus virality</td>\n",
              "      <td>broadcasting and virality have similar diffusi...</td>\n",
              "      <td>JASIST</td>\n",
              "      <td>Theory proposal\\n</td>\n",
              "      <td>Theory proposal\\n</td>\n",
              "      <td>Theory proposal\\n</td>\n",
              "      <td>NaN</td>\n",
              "    </tr>\n",
              "    <tr>\n",
              "      <th>2</th>\n",
              "      <td>Discovering underlying sensations of human emo...</td>\n",
              "      <td>we report the results of our study on sensatio...</td>\n",
              "      <td>JASIST</td>\n",
              "      <td>Theory proposal\\n</td>\n",
              "      <td>Algorithms/ Methods Construction or Optimization</td>\n",
              "      <td>Theory proposal\\n</td>\n",
              "      <td>NaN</td>\n",
              "    </tr>\n",
              "    <tr>\n",
              "      <th>3</th>\n",
              "      <td>Discovering underlying sensations of human emo...</td>\n",
              "      <td>in the second part of the paper, we define nov...</td>\n",
              "      <td>JASIST</td>\n",
              "      <td>Theory proposal\\n</td>\n",
              "      <td>Theory proposal\\n</td>\n",
              "      <td>Theory proposal\\n</td>\n",
              "      <td>NaN</td>\n",
              "    </tr>\n",
              "    <tr>\n",
              "      <th>4</th>\n",
              "      <td>Discovering underlying sensations of human emo...</td>\n",
              "      <td>we design a method to classify texts into ones...</td>\n",
              "      <td>JASIST</td>\n",
              "      <td>Algorithms/ Methods Construction or Optimization</td>\n",
              "      <td>Model Construction or Optimization</td>\n",
              "      <td>Algorithms/ Methods Construction or Optimization</td>\n",
              "      <td>NaN</td>\n",
              "    </tr>\n",
              "    <tr>\n",
              "      <th>...</th>\n",
              "      <td>...</td>\n",
              "      <td>...</td>\n",
              "      <td>...</td>\n",
              "      <td>...</td>\n",
              "      <td>...</td>\n",
              "      <td>...</td>\n",
              "      <td>...</td>\n",
              "    </tr>\n",
              "    <tr>\n",
              "      <th>3393</th>\n",
              "      <td>The impact of personality traits on usersÕ inf...</td>\n",
              "      <td>Personality traits drive information seeking d...</td>\n",
              "      <td>IPM</td>\n",
              "      <td>Theory proposal\\n</td>\n",
              "      <td>Theory proposal\\n</td>\n",
              "      <td>Theory proposal\\n</td>\n",
              "      <td>2017.0</td>\n",
              "    </tr>\n",
              "    <tr>\n",
              "      <th>3394</th>\n",
              "      <td>The impact of personality traits on usersÕ inf...</td>\n",
              "      <td>Eye-movement parameters can predict these patt...</td>\n",
              "      <td>IPM</td>\n",
              "      <td>Theory proposal\\n</td>\n",
              "      <td>Theory proposal\\n</td>\n",
              "      <td>Theory proposal\\n</td>\n",
              "      <td>2017.0</td>\n",
              "    </tr>\n",
              "    <tr>\n",
              "      <th>3395</th>\n",
              "      <td>The impact of personality traits on usersÕ inf...</td>\n",
              "      <td>Prior domain knowledge improves older adultsÕ ...</td>\n",
              "      <td>IPM</td>\n",
              "      <td>Theory proposal\\n</td>\n",
              "      <td>Theory proposal\\n</td>\n",
              "      <td>Theory proposal\\n</td>\n",
              "      <td>2017.0</td>\n",
              "    </tr>\n",
              "    <tr>\n",
              "      <th>3396</th>\n",
              "      <td>The impact of personality traits on usersÕ inf...</td>\n",
              "      <td>Unlike prior results, older adults were outper...</td>\n",
              "      <td>IPM</td>\n",
              "      <td>Theory proposal\\n</td>\n",
              "      <td>Theory proposal\\n</td>\n",
              "      <td>Theory proposal\\n</td>\n",
              "      <td>2017.0</td>\n",
              "    </tr>\n",
              "    <tr>\n",
              "      <th>3397</th>\n",
              "      <td>The impact of personality traits on usersÕ inf...</td>\n",
              "      <td>In open-ended information problems, older adul...</td>\n",
              "      <td>IPM</td>\n",
              "      <td>Theory proposal\\n</td>\n",
              "      <td>Theory proposal\\n</td>\n",
              "      <td>Theory proposal\\n</td>\n",
              "      <td>2017.0</td>\n",
              "    </tr>\n",
              "  </tbody>\n",
              "</table>\n",
              "<p>3398 rows × 7 columns</p>\n",
              "</div>\n",
              "      <button class=\"colab-df-convert\" onclick=\"convertToInteractive('df-af6c8679-ced4-4644-a1b7-a946db190c0f')\"\n",
              "              title=\"Convert this dataframe to an interactive table.\"\n",
              "              style=\"display:none;\">\n",
              "        \n",
              "  <svg xmlns=\"http://www.w3.org/2000/svg\" height=\"24px\"viewBox=\"0 0 24 24\"\n",
              "       width=\"24px\">\n",
              "    <path d=\"M0 0h24v24H0V0z\" fill=\"none\"/>\n",
              "    <path d=\"M18.56 5.44l.94 2.06.94-2.06 2.06-.94-2.06-.94-.94-2.06-.94 2.06-2.06.94zm-11 1L8.5 8.5l.94-2.06 2.06-.94-2.06-.94L8.5 2.5l-.94 2.06-2.06.94zm10 10l.94 2.06.94-2.06 2.06-.94-2.06-.94-.94-2.06-.94 2.06-2.06.94z\"/><path d=\"M17.41 7.96l-1.37-1.37c-.4-.4-.92-.59-1.43-.59-.52 0-1.04.2-1.43.59L10.3 9.45l-7.72 7.72c-.78.78-.78 2.05 0 2.83L4 21.41c.39.39.9.59 1.41.59.51 0 1.02-.2 1.41-.59l7.78-7.78 2.81-2.81c.8-.78.8-2.07 0-2.86zM5.41 20L4 18.59l7.72-7.72 1.47 1.35L5.41 20z\"/>\n",
              "  </svg>\n",
              "      </button>\n",
              "      \n",
              "  <style>\n",
              "    .colab-df-container {\n",
              "      display:flex;\n",
              "      flex-wrap:wrap;\n",
              "      gap: 12px;\n",
              "    }\n",
              "\n",
              "    .colab-df-convert {\n",
              "      background-color: #E8F0FE;\n",
              "      border: none;\n",
              "      border-radius: 50%;\n",
              "      cursor: pointer;\n",
              "      display: none;\n",
              "      fill: #1967D2;\n",
              "      height: 32px;\n",
              "      padding: 0 0 0 0;\n",
              "      width: 32px;\n",
              "    }\n",
              "\n",
              "    .colab-df-convert:hover {\n",
              "      background-color: #E2EBFA;\n",
              "      box-shadow: 0px 1px 2px rgba(60, 64, 67, 0.3), 0px 1px 3px 1px rgba(60, 64, 67, 0.15);\n",
              "      fill: #174EA6;\n",
              "    }\n",
              "\n",
              "    [theme=dark] .colab-df-convert {\n",
              "      background-color: #3B4455;\n",
              "      fill: #D2E3FC;\n",
              "    }\n",
              "\n",
              "    [theme=dark] .colab-df-convert:hover {\n",
              "      background-color: #434B5C;\n",
              "      box-shadow: 0px 1px 3px 1px rgba(0, 0, 0, 0.15);\n",
              "      filter: drop-shadow(0px 1px 2px rgba(0, 0, 0, 0.3));\n",
              "      fill: #FFFFFF;\n",
              "    }\n",
              "  </style>\n",
              "\n",
              "      <script>\n",
              "        const buttonEl =\n",
              "          document.querySelector('#df-af6c8679-ced4-4644-a1b7-a946db190c0f button.colab-df-convert');\n",
              "        buttonEl.style.display =\n",
              "          google.colab.kernel.accessAllowed ? 'block' : 'none';\n",
              "\n",
              "        async function convertToInteractive(key) {\n",
              "          const element = document.querySelector('#df-af6c8679-ced4-4644-a1b7-a946db190c0f');\n",
              "          const dataTable =\n",
              "            await google.colab.kernel.invokeFunction('convertToInteractive',\n",
              "                                                     [key], {});\n",
              "          if (!dataTable) return;\n",
              "\n",
              "          const docLinkHtml = 'Like what you see? Visit the ' +\n",
              "            '<a target=\"_blank\" href=https://colab.research.google.com/notebooks/data_table.ipynb>data table notebook</a>'\n",
              "            + ' to learn more about interactive tables.';\n",
              "          element.innerHTML = '';\n",
              "          dataTable['output_type'] = 'display_data';\n",
              "          await google.colab.output.renderOutput(dataTable, element);\n",
              "          const docLink = document.createElement('div');\n",
              "          docLink.innerHTML = docLinkHtml;\n",
              "          element.appendChild(docLink);\n",
              "        }\n",
              "      </script>\n",
              "    </div>\n",
              "  </div>\n",
              "  "
            ]
          },
          "metadata": {},
          "execution_count": 11
        }
      ]
    },
    {
      "cell_type": "code",
      "source": [
        "# label encode the categorical columns data\n",
        "le = LabelEncoder()\n",
        "\n",
        "le.fit(df['Annotation1'])\n",
        "\n",
        "df['le_Annotation1'] = le.transform(df['Annotation1'])\n",
        "df['le_Annotation2'] = le.transform(df['Annotation2'])\n",
        "df['le_Annotation3'] = le.transform(df['Annotation3'])"
      ],
      "metadata": {
        "id": "Sl4Vg5qE6XUS"
      },
      "execution_count": 17,
      "outputs": []
    },
    {
      "cell_type": "code",
      "source": [
        "from sklearn.metrics import cohen_kappa_score\n",
        "\n",
        "s1 = cohen_kappa_score(list(df['le_Annotation1'].values), list(df['le_Annotation2'].values))\n",
        "s2 = cohen_kappa_score(list(df['le_Annotation2'].values), list(df['le_Annotation3'].values))\n",
        "s3 = cohen_kappa_score(list(df['le_Annotation1'].values), list(df['le_Annotation3'].values))\n",
        "\n",
        "# take average of all 3 scores\n",
        "kappa_score = (s1 + s2 + s3)/3\n",
        "print(\"Cohen's kappa score is:\", round(kappa_score, 2))\n",
        "\n",
        "# determining agreement based on cohen kappa score\n",
        "if kappa_score < 0.0:\n",
        "    print(\"Less than chance agreement\")\n",
        "\n",
        "elif ((kappa_score >= 0.01) & (kappa_score <= 0.20)):\n",
        "    print(\"Slight agreement\")\n",
        "\n",
        "elif ((kappa_score >= 0.21) and (kappa_score <= 0.40)):\n",
        "    print(\"Fair agreement\")\n",
        "\n",
        "elif ((kappa_score >= 0.41) and (kappa_score <= 0.60)):\n",
        "    print(\"Moderate agreement\")\n",
        "\n",
        "elif ((kappa_score >= 0.61) and (kappa_score <= 0.80)):\n",
        "    print(\"Substantial agreement\")\n",
        "\n",
        "elif ((kappa_score >= 0.81) and (kappa_score <= 0.99)):\n",
        "    print(\"Almost perfect agreement\")"
      ],
      "metadata": {
        "colab": {
          "base_uri": "https://localhost:8080/"
        },
        "id": "431IA7L587J8",
        "outputId": "792426be-3070-4738-9d26-6a400d98208b"
      },
      "execution_count": 18,
      "outputs": [
        {
          "output_type": "stream",
          "name": "stdout",
          "text": [
            "Cohen's kappa score is: 0.54\n",
            "Moderate agreement\n"
          ]
        }
      ]
    },
    {
      "cell_type": "code",
      "source": [
        "import krippendorff\n",
        "d1 = [list(df['le_Annotation1'].values),\n",
        "        list(df['le_Annotation2'].values),\n",
        "        list(df['le_Annotation3'].values)]\n",
        "\n",
        "# fleiss kappa score calculation\n",
        "fleiss_score = krippendorff.alpha(d1)\n",
        "print(\"Fleiss kappa score is:\", round(fleiss_score, 2))"
      ],
      "metadata": {
        "colab": {
          "base_uri": "https://localhost:8080/"
        },
        "id": "tuMxSSW76sAG",
        "outputId": "261c97f4-4af7-4007-e9ba-55ff212b78f9"
      },
      "execution_count": 16,
      "outputs": [
        {
          "output_type": "stream",
          "name": "stdout",
          "text": [
            "Fleiss kappa score is: 0.57\n"
          ]
        }
      ]
    },
    {
      "cell_type": "markdown",
      "metadata": {
        "id": "63OQUz7v3E4T"
      },
      "source": [
        "### Question 2 (25 points) \n",
        "\n",
        "Normal distribution is the default probability for many real world scenarios. It represents a symmetric distribution where most of the observations cluster around the central peak called as mean of the distribution. A normal distribution can be thought of as a bell curve or Gaussian Distribution which typically has two parameters: mean and standard deviation (SD). The parameter used to measure the variability of observations around the mean is called as standard deviation. The probabilities for values occurring near mean are higher than the values far away from the mean. The parameters of the normal distribution plot defining the shape and the probabilities are mean and standard deviation. The area of the plot between two different points in the normal distribution plot represents the probability of the value occurring between those two points.\n",
        "\n",
        "Please generate the nromal distribution for the following cases suing Python:\n",
        "\n",
        "(1) IQ scores (the mean is typically 100, SD = 15)\n",
        "\n",
        "(2) Marks of students in a class (mean = 60, SD = 20)\n",
        "\n",
        "(3) Measure of weight (mean = 80 kg, SD = 10)\n",
        "\n",
        "(4) Measure of blood pressure (mean = 120/80, SD = 20)\n",
        "\n",
        "(5) Measure of wealth (measurement in money; mean = $50,000 , SD = $100)"
      ]
    },
    {
      "cell_type": "code",
      "execution_count": 2,
      "metadata": {
        "colab": {
          "base_uri": "https://localhost:8080/",
          "height": 295
        },
        "id": "Plxde5b83E4U",
        "outputId": "3ca9801f-54b6-41d9-a563-f2fcc23890d4"
      },
      "outputs": [
        {
          "output_type": "display_data",
          "data": {
            "text/plain": [
              "<Figure size 432x288 with 1 Axes>"
            ],
            "image/png": "[encoded data removed]"
          },
          "metadata": {
            "needs_background": "light"
          }
        }
      ],
      "source": [
        "# your code here\n",
        "#2-1)\n",
        "%matplotlib inline\n",
        "import numpy as np\n",
        "import scipy.stats\n",
        "import math\n",
        "import matplotlib.pyplot as plt\n",
        "#generating the normal distribution\n",
        "mean = 100\n",
        "sd = 15\n",
        "x = np.linspace(mean - 3*sd, mean + 3*sd, 100)\n",
        "plt.plot(x, scipy.stats.norm.pdf(x, mean, sd))\n",
        "plt.title(\"IQ scores\")\n",
        "plt.xlabel(\"IQ scores\")\n",
        "plt.show()\n",
        "\n"
      ]
    },
    {
      "cell_type": "code",
      "source": [
        "# your code here\n",
        "#2-2)\n",
        "%matplotlib inline\n",
        "import numpy as np\n",
        "import scipy.stats\n",
        "import math\n",
        "import matplotlib.pyplot as plt\n",
        "#generating the normal distribution\n",
        "mean = 60\n",
        "sd = 20\n",
        "x = np.linspace(mean - 3*sd, mean + 3*sd, 100)\n",
        "plt.plot(x, scipy.stats.norm.pdf(x, mean, sd))\n",
        "plt.title(\"Marks of students in a class\")\n",
        "plt.xlabel(\"marks\")\n",
        "plt.show()"
      ],
      "metadata": {
        "colab": {
          "base_uri": "https://localhost:8080/",
          "height": 295
        },
        "id": "syeKdaSM4U48",
        "outputId": "bc38ee1b-88de-4f5a-eacb-36cd437823cc"
      },
      "execution_count": 6,
      "outputs": [
        {
          "output_type": "display_data",
          "data": {
            "text/plain": [
              "<Figure size 432x288 with 1 Axes>"
            ],
            "image/png": "[encoded data removed]"
          },
          "metadata": {
            "needs_background": "light"
          }
        }
      ]
    },
    {
      "cell_type": "code",
      "source": [
        "# your code here\n",
        "#2-3)\n",
        "%matplotlib inline\n",
        "import numpy as np\n",
        "import scipy.stats\n",
        "import math\n",
        "import matplotlib.pyplot as plt\n",
        "#generating the normal distribution\n",
        "mean = 80\n",
        "sd = 10\n",
        "x = np.linspace(mean - 3*sd, mean + 3*sd, 100)\n",
        "plt.plot(x, scipy.stats.norm.pdf(x, mean, sd))\n",
        "plt.title(\"Measure of weight\")\n",
        "plt.xlabel(\"Weight\")\n",
        "plt.show()\n"
      ],
      "metadata": {
        "colab": {
          "base_uri": "https://localhost:8080/",
          "height": 295
        },
        "id": "vSKdGvXQ4Epq",
        "outputId": "584585b3-0bef-4dc1-825f-374eae9cb042"
      },
      "execution_count": 7,
      "outputs": [
        {
          "output_type": "display_data",
          "data": {
            "text/plain": [
              "<Figure size 432x288 with 1 Axes>"
            ],
            "image/png": "[encoded data removed]"
          },
          "metadata": {
            "needs_background": "light"
          }
        }
      ]
    },
    {
      "cell_type": "code",
      "source": [
        "# your code here\n",
        "#2-4)\n",
        "%matplotlib inline\n",
        "import numpy as np\n",
        "import scipy.stats\n",
        "import math\n",
        "import matplotlib.pyplot as plt\n",
        "#generating the normal distribution\n",
        "mean = 120\n",
        "sd = 20\n",
        "x = np.linspace(mean - 3*sd, mean + 3*sd, 100)\n",
        "plt.plot(x, scipy.stats.norm.pdf(x, mean, sd))\n",
        "plt.title(\"Measure of blood pressure\")\n",
        "plt.xlabel(\"blood pressure\")\n",
        "plt.show()\n"
      ],
      "metadata": {
        "colab": {
          "base_uri": "https://localhost:8080/",
          "height": 295
        },
        "id": "2S0986Dp4qAR",
        "outputId": "10253adb-3480-4b03-b003-6f6494f2a831"
      },
      "execution_count": 8,
      "outputs": [
        {
          "output_type": "display_data",
          "data": {
            "text/plain": [
              "<Figure size 432x288 with 1 Axes>"
            ],
            "image/png": "[encoded data removed]"
          },
          "metadata": {
            "needs_background": "light"
          }
        }
      ]
    },
    {
      "cell_type": "code",
      "source": [
        "# your code here\n",
        "#2-5)\n",
        "%matplotlib inline\n",
        "import numpy as np\n",
        "import scipy.stats\n",
        "import math\n",
        "import matplotlib.pyplot as plt\n",
        "#generating the normal distribution\n",
        "mean = 50000\n",
        "sd = 100\n",
        "x = np.linspace(mean - 3*sd, mean + 3*sd, 100)\n",
        "plt.plot(x, scipy.stats.norm.pdf(x, mean, sd))\n",
        "plt.title(\"Measure of wealth\")\n",
        "plt.xlabel(\"Wealth\")\n",
        "plt.show()"
      ],
      "metadata": {
        "colab": {
          "base_uri": "https://localhost:8080/",
          "height": 295
        },
        "id": "u54mHq-O5guf",
        "outputId": "0a6de0b1-91fc-4de0-b81d-628f43544734"
      },
      "execution_count": 9,
      "outputs": [
        {
          "output_type": "display_data",
          "data": {
            "text/plain": [
              "<Figure size 432x288 with 1 Axes>"
            ],
            "image/png": "[encoded data removed]"
          },
          "metadata": {
            "needs_background": "light"
          }
        }
      ]
    }
  ],
  "metadata": {
    "kernelspec": {
      "display_name": "Python 3",
      "language": "python",
      "name": "python3"
    },
    "language_info": {
      "codemirror_mode": {
        "name": "ipython",
        "version": 3
      },
      "file_extension": ".py",
      "mimetype": "text/x-python",
      "name": "python",
      "nbconvert_exporter": "python",
      "pygments_lexer": "ipython3",
      "version": "3.8.5"
    },
    "colab": {
      "name": "lab_assignment_10.ipynb",
      "provenance": [],
      "collapsed_sections": [],
      "include_colab_link": true
    }
  },
  "nbformat": 4,
  "nbformat_minor": 0
}